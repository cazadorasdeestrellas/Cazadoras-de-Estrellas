{
 "cells": [
  {
   "cell_type": "markdown",
   "metadata": {},
   "source": [
    "# Taller Cazadoras de Estrellas\n",
    "\n",
    "## Módulo de Programación: Estrellas Variables\n",
    "\n",
    "El objetivo de este taller práctico es aprender a utilizar una de las herramientas más populares en la astronomía, la programación. Debido a las grandes cantidades de datos y a la precisión necesaria al estudiar el Universo, en Astronomía es necesario manejar herramientas computacionales que aceleran y dan exactitud a los cálaculos.\n",
    "\n",
    "Para esta actividad, dentro del contexto del estudio de las estrellas variables, utilizaremos como motivación el descubrimiento de la *Relación de Período-Luminosidad*, descubierta al rededor de los 1912 por Henrietta Leavitt, cuya aplicación directa es la determinación de distancias, tarea importantísima en Astronomía.\n",
    "\n",
    "Mientras trabajaba en el Observatorio del Harvard College como *'calculadora'*, catalogó más de 1700 estrellas variables periódicas en las Nubes Grande y Chica de Magallanes. Henrietta notó que las estrellas Cefeidas con periodos más largos eran más brillantes que las de periodo más corto, y como todas ellas estaban dentro del mismo sistema, es decir a la misma distancia, estas diferencias en brillo debían ser intrínsecas.\n",
    "\n",
    "<img src=\"files/Henrietta-Leavitt.jpg\">\n",
    "\n",
    "\n",
    "En la siguiente actividad, practicaremos algunos conceptos sobre variabilidad y periodicidad utilizando el lenguaje de programación *Python*. Luego, a través de datos de estrellas reales deduciremos la relación de Período-Luminosidad, tal como lo hizo Henrietta Leavitt en 1900."
   ]
  },
  {
   "cell_type": "markdown",
   "metadata": {},
   "source": [
    "### Variabilidad y Periodicidad\n",
    "\n",
    "Comencemos por repasar los conceptos de variabilidad y periodicidad.\n",
    "\n",
    "#### Variabilidad\n",
    "\n",
    "Como ya vimos anteriormente, la variabilidad se refiere a los cambios en las *curvas de luz* de las fuentes espaciales, es decir, cambios en el brillo de un objeto en el cielo a través del tiempo. Existen múltiples tipos de objetos en el Universo que presentan esta variaciones, entre ellos algunos tipos de estrellas.\n",
    "\n",
    "Entre las **estrellas variables**, existen casos en que estas variaciones se repiten en el tiempo, llamamos a este tipo de estrellas variables **periódicas**.\n",
    "\n",
    "<img src=\"files/lc.jpg\" width=\"800\"> \n",
    "\n",
    "En la imágen de la izquierda se ve la curva de luz de una RR Lyrae, que cada medio día repite un patrón de subida y bajada en su brillo. Por otro lado, a la derecha se ve la curva de luz de una Supernova, que tiene un gran aumento de su luminosidad durante su explosión para luego caer lentamente luego de un par de días. El cambio de brillo en la Supernova, a diferencia de las estrellas periódicas, solo ocurre una vez."
   ]
  },
  {
   "cell_type": "markdown",
   "metadata": {},
   "source": [
    "#### Funciones Periódicas\n",
    "\n",
    "\n",
    "Diremos que una función $f(t)$ es **peródica** cuando existe un número $T$, tal que el valor de la función en el tiempo $t$ sea el mismo que para el tiempo $t+T$, es decir:\n",
    "\n",
    "$ f(t + T) = f(t) $\n",
    "\n",
    "Dicho en otras palabras, una función será periódica cuando el trazado de la función es un patrón que se repite cada cierto intervalo de tiempo. A este intervalo de tiempo $T$ lo llamamos el **periodo**.\n",
    "\n",
    "Como podemos ver en la siguiente imagen, esta función es periódica porque su trazo se repite cada cuatro valores. Por tanto su periodo es 4: $T=4$. Si analizamos la función, podemos comprobar que $f(2)=f(2+4)=f(6)=f(6+4)=f(10)$.\n",
    "\n",
    "<img src=\"files/periodo.jpg\"> "
   ]
  },
  {
   "cell_type": "markdown",
   "metadata": {},
   "source": [
    "#### Ejemplos de funciones periódicas:\n",
    "\n",
    "##### Cuadrado:\n",
    "\n",
    "$f(t) =\\begin{cases}\n",
    "    ~~A       & t \\in [0, \\frac{T}{2}]\\\\\n",
    "    -A       & t \\in (\\frac{T}{2}, T]\n",
    "  \\end{cases}\n",
    "$\n",
    "\n",
    "##### Funciones trigonométricas: Seno y Coseno.\n",
    "\n",
    "Las funciones trigonométricas se definen comúnmente como el cociente entre dos lados de un triángulo rectángulo, asociado a sus ángulos. Estas varían originalmente entre el -1 y el 1 en intervalos de tiempo $2\\pi$. Al agregar una amplitud y periodo extra su forma cambia.\n",
    "\n",
    "<img src=\"files/sinusoid.png\" width=\"300\"> \n",
    "\n",
    "Si cargamos la librería *iplot*, podemos ver ejemplos de funciones periódicas y cómo estas cambian su forma al cambiar su amplitud (el valor máximo que alcanza) y periodo. Mueve los círculos dentro de las barras para ajustar la amplitud (A) y periodo (T) y observa los cambios en la figura. Las líneas punteadas muestran dos puntos en el gráfico con el mismo valor, mostrando un ciclo."
   ]
  },
  {
   "cell_type": "code",
   "execution_count": 1,
   "metadata": {},
   "outputs": [
    {
     "data": {
      "application/vnd.jupyter.widget-view+json": {
       "model_id": "951ccf656f05475e967d22b2324b79e2",
       "version_major": 2,
       "version_minor": 0
      },
      "text/plain": [
       "interactive(children=(FloatSlider(value=10.0, description='A', max=20.0), FloatSlider(value=4.6, description='…"
      ]
     },
     "metadata": {},
     "output_type": "display_data"
    }
   ],
   "source": [
    "import iplot as ip    #Librería con herramineta interactiva de funciones periodicas\n",
    "ip.icuadrado()"
   ]
  },
  {
   "cell_type": "code",
   "execution_count": 2,
   "metadata": {},
   "outputs": [
    {
     "data": {
      "application/vnd.jupyter.widget-view+json": {
       "model_id": "350cac7dbf904ee1afc517f68d763b7f",
       "version_major": 2,
       "version_minor": 0
      },
      "text/plain": [
       "interactive(children=(FloatSlider(value=10.0, description='A', max=20.0), FloatSlider(value=2.5000000000000004…"
      ]
     },
     "metadata": {},
     "output_type": "display_data"
    }
   ],
   "source": [
    "ip.icoseno()"
   ]
  },
  {
   "cell_type": "markdown",
   "metadata": {},
   "source": [
    "## Cálculo de distancias utilizando estrellas variables\n",
    "\n",
    "En Astronomía una de las tareas más desafiantes es determinar las distancias a los objetos. Esto, ya que las fuentes tienen distintas luminosidades. Luego, si tenemos 2 objetos a la misma distancia uno más brillante que otro, si no sabemos cuál es su luminosidad real el más pequeño nos parecerá más distante."
   ]
  },
  {
   "cell_type": "markdown",
   "metadata": {},
   "source": [
    "### Relación distancia-magnitud\n",
    "\n",
    "Podemos definir una relación entre la cantidad de brillo que emite una fuente en el cielo, versus la cantidad de ese brillo que nos llega cuando estamos a una cierta distancia: *La Ley del inverso al cuadrado*, llamada así pues la cantidad de luz emitida (Luminosidad) que recibimos (el Flujo) cae como la distancia al cuadrado.\n",
    "\n",
    "$F = \\frac{L_V}{4\\pi d^2}$\n",
    "\n",
    "Las y los astrónomos utilizan **magnitudes** para referirse al brillo recibido, pues es más fácil de comparar en esta escala (escala logarítmica). La transformación de flujo a magnitud aparente es la siguiente: \n",
    "\n",
    "$m_V = -2.5 \\log_{10}(F_V) + C$\n",
    "\n",
    "Tambien podemos definir la cantidad llamada **Magnitud absoluta**, que corresponde a la magnitud de nuestra fuente si estuviese a una distancia de $10$ $pc$:\n",
    "\n",
    "$M_V = -2.5 \\log_{10}(F_{V,10pc}) + C$\n",
    "\n",
    "Si juntamos ambas ecuaciones y utilizamos la ley del inverso al cuadrado podemos obtener una fórmula para calcular distancias a partir de la diferencia entre la magnitud aparente y absoluta:\n",
    "\n",
    "\n",
    "$m_V - M_V = -2.5 \\log_{10}(\\frac{F_V}{F_{V,10pc}}) + C - C$\n",
    "\n",
    "$d [pc] = 10^{\\frac{m_V - M_V + 5}{5}}$"
   ]
  },
  {
   "cell_type": "markdown",
   "metadata": {},
   "source": [
    "### Relación Periodo-Luminosidad\n",
    "\n",
    "Ahora, no siempre sabemos cuál es la magnitud absoluta de una fuente (o su Luminosidad). Es por esto que la Relación de Periodo-Luminosidad es tan importante. Esta relación nos dice qué magnitud absoluta tiene una fuente dependiendo de su periodo, una cantidad mucho más fácil de calcular.\n",
    "\n",
    "<img src=\"files/periodo-luminosidad.png\">\n",
    "\n",
    "Por ejemplo, si seleccionamos un objeto de la galaxia Andrómeda con magnitud aparente $m_i = 19.35$ periodo $T=8$ días en esta curva, la relación de Periodo-Luminosidad nos dirá que su magnitud absoluta es $M_i = -5.1$.\n",
    "\n",
    "<img src=\"files/periodo-luminosidad2.png\">\n",
    "\n",
    "Luego, podemos calcular su distancia como:\n",
    "\n",
    "$d [pc] = 10^{\\frac{19.35 - (-5.1) + 5}{5}} = 776247$, que es aproximadamente la distancia a Andrómeda."
   ]
  },
  {
   "cell_type": "code",
   "execution_count": 4,
   "metadata": {},
   "outputs": [
    {
     "name": "stdout",
     "output_type": "stream",
     "text": [
      "776247.1166286927\n"
     ]
    }
   ],
   "source": [
    "#Define una función que realice este calculo: \n",
    "#que reciba como parámetros la magnitud aparente y la magnitud absoluta\n",
    "#y devuelva la distancia en parsec\n",
    "\n",
    "def distancia_en_parsecs(m, M):\n",
    "    distancia = 10 ** ((m - M + 5.0) / 5.0)\n",
    "    return distancia\n",
    "\n",
    "print(distancia_en_parsecs(19.35, -5.1))"
   ]
  },
  {
   "cell_type": "markdown",
   "metadata": {},
   "source": [
    "### Actividad: Obtener gráfico de periodo-luminosidad\n",
    "\n",
    "En la siguiente actividad usaremos datos reales para estrellas Cefeidas en la Nube Grande de Magallanes (LMC) para estimar sus periodos y magnitudes promedio y graficar la curva de periodo-luminosidad (como en el gráfico anterior).\n",
    "\n",
    "Las siguientes celdas te enseñarán a cargar los datos de una curva (una RR Lyrae) y a graficarla para estimar su periodo desde su curva de luz."
   ]
  },
  {
   "cell_type": "code",
   "execution_count": 6,
   "metadata": {},
   "outputs": [],
   "source": [
    "#Comenzamos importando los módulos que usaremos para trabajar\n",
    "\n",
    "import numpy as np                     #Modulo para manejo de matrices\n",
    "import matplotlib.pyplot as plt        #Modulo para graficar\n",
    "import pandas as pd                    #Modulo para manejo de tablas\n",
    "\n",
    "                    \n",
    "#Esta linea nos permite graficar directamente en la pagina web\n",
    "%matplotlib inline "
   ]
  },
  {
   "cell_type": "code",
   "execution_count": 7,
   "metadata": {},
   "outputs": [],
   "source": [
    "#Cargamos el archivo con los nombres de las estrellas en nuestro catálogo (objetos.txt), \n",
    "#cada curva de luz está en un archivo separado en la carpeta datos cuyo nombre se encuentra en la columna: ID\n",
    "\n",
    "archivo = 'datos/objetos.txt'      #Definimos la variable con el nombre del archivo\n",
    "nombres = pd.read_csv(archivo)     #Esta función carga nuestro archivo de nombres"
   ]
  },
  {
   "cell_type": "code",
   "execution_count": 8,
   "metadata": {
    "scrolled": true
   },
   "outputs": [
    {
     "name": "stdout",
     "output_type": "stream",
     "text": [
      "                      ID Field   Type       I        P_1\n",
      "0   OGLE-LMC-RRLYR-09258   LMC  RRLyr  13.230  0.5534047\n",
      "1      OGLE-LMC-CEP-0787   LMC    Cep       -          -\n",
      "2      OGLE-LMC-CEP-0839   LMC    Cep       -          -\n",
      "3      OGLE-LMC-CEP-0858   LMC    Cep       -          -\n",
      "4      OGLE-LMC-CEP-0859   LMC    Cep       -          -\n",
      "5      OGLE-LMC-CEP-0898   LMC    Cep       -          -\n",
      "6      OGLE-LMC-CEP-0928   LMC    Cep       -          -\n",
      "7      OGLE-LMC-CEP-0784   LMC    Cep       -          -\n",
      "8      OGLE-LMC-CEP-0801   LMC    Cep       -          -\n",
      "9      OGLE-LMC-CEP-0843   LMC    Cep       -          -\n",
      "10     OGLE-LMC-CEP-0853   LMC    Cep       -          -\n",
      "11     OGLE-LMC-CEP-0856   LMC    Cep       -          -\n",
      "12     OGLE-LMC-CEP-0926   LMC    Cep       -          -\n",
      "13     OGLE-LMC-CEP-0916   LMC    Cep       -          -\n",
      "14     OGLE-LMC-CEP-0935   LMC    Cep       -          -\n"
     ]
    }
   ],
   "source": [
    "#Así es como se ve nuestra tabla de datos, donde esta en el espacio 0 la RR Lyrae y el resto son las cefeidas\n",
    "#Tambien están la magnitud promedio y el periodo de la RR Lyrae, para las cefeidas deberás calcular tú estos datos\n",
    "\n",
    "print(nombres)"
   ]
  },
  {
   "cell_type": "code",
   "execution_count": 9,
   "metadata": {},
   "outputs": [],
   "source": [
    "#Ahora cargaremos la curva de luz\n",
    "\n",
    "i = 0    #Esta variable contiene el número de la fila que seleccionaremos en la tabla anterior\n",
    "\n",
    "#Guardamos en la variable obj, los datos de la curva de luz a cargar.\n",
    "objeto = nombres.iloc[i]"
   ]
  },
  {
   "cell_type": "code",
   "execution_count": 10,
   "metadata": {},
   "outputs": [
    {
     "name": "stdout",
     "output_type": "stream",
     "text": [
      "datos/I/OGLE-LMC-RRLYR-09258.dat\n"
     ]
    }
   ],
   "source": [
    "#Puedes acceder a cada columna de la siguiente forma: obj.nombre_de_columna,\n",
    "#la columna ID contiene el nombre del archivo con la curva de luz deseada \n",
    "nombre_curva = 'datos/I/' + objeto.ID + '.dat'\n",
    "print(nombre_curva)"
   ]
  },
  {
   "cell_type": "code",
   "execution_count": 11,
   "metadata": {},
   "outputs": [],
   "source": [
    "#Ahora cargamos la tabla de nuestra estrella en la variable curva, de la misma forma que cargamos la \n",
    "# tabla anterior\n",
    "\n",
    "curva = pd.read_csv(nombre_curva)"
   ]
  },
  {
   "cell_type": "code",
   "execution_count": 12,
   "metadata": {
    "scrolled": true
   },
   "outputs": [
    {
     "name": "stdout",
     "output_type": "stream",
     "text": [
      "            dia     mag    err\n",
      "0    2156.89973  13.389  0.006\n",
      "1    2161.86670  13.388  0.006\n",
      "2    2173.87993  13.103  0.006\n",
      "3    2186.81692  13.455  0.006\n",
      "4    2192.84923  13.393  0.006\n",
      "5    2201.83569  13.470  0.006\n",
      "6    2214.81724  13.076  0.006\n",
      "7    2221.76014  13.416  0.006\n",
      "8    2224.77284  13.078  0.006\n",
      "9    2227.67546  13.274  0.006\n",
      "10   2229.68893  12.978  0.006\n",
      "11   2230.83309  13.030  0.006\n",
      "12   2232.85270  13.418  0.006\n",
      "13   2234.84745  13.244  0.006\n",
      "14   2237.76791  13.367  0.006\n",
      "15   2241.69318  13.422  0.006\n",
      "16   2243.74700  13.291  0.006\n",
      "17   2247.82887  13.433  0.006\n",
      "18   2248.83149  13.354  0.006\n",
      "19   2250.81888  13.141  0.006\n",
      "20   2252.67856  13.354  0.006\n",
      "21   2254.66962  13.101  0.006\n",
      "22   2257.67630  13.362  0.006\n",
      "23   2260.68302  12.954  0.006\n",
      "24   2264.68839  13.204  0.006\n",
      "25   2266.67450  13.413  0.006\n",
      "26   2270.68220  13.033  0.006\n",
      "27   2271.82256  13.132  0.006\n",
      "28   2272.83051  12.859  0.006\n",
      "29   2274.67217  13.239  0.006\n",
      "..          ...     ...    ...\n",
      "337  4432.75063  13.104  0.006\n",
      "338  4436.79056  13.159  0.006\n",
      "339  4439.85567  13.456  0.006\n",
      "340  4443.74370  13.486  0.006\n",
      "341  4449.70655  13.427  0.006\n",
      "342  4451.71628  13.118  0.006\n",
      "343  4455.71540  13.358  0.006\n",
      "344  4457.74584  12.966  0.006\n",
      "345  4460.81749  13.463  0.006\n",
      "346  4463.73578  13.051  0.006\n",
      "347  4466.72477  13.253  0.006\n",
      "348  4470.67224  13.380  0.006\n",
      "349  4477.77347  13.202  0.006\n",
      "350  4482.77725  13.241  0.006\n",
      "351  4486.75508  13.389  0.006\n",
      "352  4492.65022  13.082  0.006\n",
      "353  4494.67400  13.465  0.006\n",
      "354  4498.70652  13.030  0.006\n",
      "355  4501.70383  13.371  0.006\n",
      "356  4506.63791  13.310  0.006\n",
      "357  4508.66475  13.038  0.006\n",
      "358  4510.73072  13.414  0.006\n",
      "359  4517.66496  13.259  0.006\n",
      "360  4521.64549  13.357  0.006\n",
      "361  4524.60820  13.190  0.006\n",
      "362  4530.63419  13.437  0.006\n",
      "363  4532.65993  13.304  0.006\n",
      "364  4536.63219  13.366  0.006\n",
      "365  4539.51416  13.421  0.006\n",
      "366  4541.62332  13.378  0.006\n",
      "\n",
      "[367 rows x 3 columns]\n"
     ]
    }
   ],
   "source": [
    "#En este caso la tabla tiene 3 columnas, dia, magnitud y error\n",
    "print(curva)"
   ]
  },
  {
   "cell_type": "code",
   "execution_count": 15,
   "metadata": {},
   "outputs": [
    {
     "data": {
      "text/plain": [
       "Text(0,0.5,'magnitud aparente')"
      ]
     },
     "execution_count": 15,
     "metadata": {},
     "output_type": "execute_result"
    },
    {
     "data": {
      "image/png": "[encoded data removed]",
      "text/plain": [
       "<matplotlib.figure.Figure at 0x7f45dc041d30>"
      ]
     },
     "metadata": {},
     "output_type": "display_data"
    }
   ],
   "source": [
    "#Seleccionamos las columnas de interes, la primera con el tiempo\n",
    "# y la segunda con las magnitudes aparentes correspondientes a el tiempo\n",
    "\n",
    "mi = curva.mag\n",
    "t = curva.dia\n",
    "\n",
    "#Y luego las graficamos \n",
    "plt.figure(figsize=(10,5))    #Define el tamaño de nuestro gráfico, puedes no poner esta linea\n",
    "plt.plot(t, mi, 'k.')\n",
    "plt.xlabel('Días')\n",
    "plt.ylabel('magnitud aparente')"
   ]
  },
  {
   "cell_type": "code",
   "execution_count": 17,
   "metadata": {},
   "outputs": [
    {
     "data": {
      "text/plain": [
       "Text(0,0.5,'magnitud aparente')"
      ]
     },
     "execution_count": 17,
     "metadata": {},
     "output_type": "execute_result"
    },
    {
     "data": {
      "image/png": "[encoded data removed]",
      "text/plain": [
       "<matplotlib.figure.Figure at 0x7f45caed5860>"
      ]
     },
     "metadata": {},
     "output_type": "display_data"
    }
   ],
   "source": [
    "#En este caso la curva no esta 'foldeada', tenemos que foldearla en su periodo para ver su forma real\n",
    "\n",
    "#Seleccionamos el periodo de la tabla\n",
    "P = float(objeto.P_1)\n",
    "#Y foldeamos\n",
    "t_fold = t % (2*P)\n",
    "\n",
    "#Ahora el grafico muestra la real forma\n",
    "plt.figure(figsize=(10,5))\n",
    "plt.plot(t_fold, mi, 'k.')\n",
    "plt.ylim(14,12.5)\n",
    "plt.xlabel('Días')\n",
    "plt.ylabel('magnitud aparente')"
   ]
  },
  {
   "cell_type": "code",
   "execution_count": 19,
   "metadata": {},
   "outputs": [
    {
     "data": {
      "text/plain": [
       "<matplotlib.lines.Line2D at 0x7f45cabfaa20>"
      ]
     },
     "execution_count": 19,
     "metadata": {},
     "output_type": "execute_result"
    },
    {
     "data": {
      "image/png": "[encoded data removed]",
      "text/plain": [
       "<matplotlib.figure.Figure at 0x7f45c8bdae80>"
      ]
     },
     "metadata": {},
     "output_type": "display_data"
    }
   ],
   "source": [
    "plt.figure(figsize=(10,5))\n",
    "plt.plot(t_fold, mi, 'k.')\n",
    "plt.ylim(14,12.5)\n",
    "plt.xlabel('Días')\n",
    "plt.ylabel('magnitud aparente')\n",
    "\n",
    "#Si agregamos este comando podemos graficar una línea vertical,\n",
    "#Hagamos una línea vertical en el periodo de la tabla\n",
    "plt.axvline(P, ls = 'dashed')     #Si cambias el valor donde está P esta línea se moverá de lugar"
   ]
  },
  {
   "cell_type": "code",
   "execution_count": 20,
   "metadata": {},
   "outputs": [
    {
     "name": "stdout",
     "output_type": "stream",
     "text": [
      "13.256681198910094\n"
     ]
    }
   ],
   "source": [
    "#Además podemos calcular la magnitud promedio de la estrella con el comando mean\n",
    "\n",
    "m_promedio = mi.mean()\n",
    "print(m_promedio)"
   ]
  },
  {
   "cell_type": "markdown",
   "metadata": {},
   "source": [
    "## Manos a la obra!\n",
    "\n",
    "Ahora te invitamos a tí, a imitar el trabajo de Henrietta Leavitt y usar el resto de las estrellas en el catálogo (que ya están foldeadas por lo que debes saltar ese paso y graficar diréctamente la magnitud vs tiempo) y estimar sus periodos y magnitudes promedio para dibujar un gráfico de periodo-luminosidad. Puedes guiarte con las instrucciones en las siguientes celdas. \n",
    "\n",
    "Éxito!"
   ]
  },
  {
   "cell_type": "code",
   "execution_count": 57,
   "metadata": {},
   "outputs": [],
   "source": [
    "# 1.-Debes llenar dos listas del mismo tamaño, una con los periodos y otra con las magnitudes absolutas\n",
    "\n",
    "periodo = [18,2.3,3.3,3.0,2.1,1.6, 22]  #Pon los valores de cada periodo que estimes en orden dentro de esta lista\n",
    "magnitud = [13.22,15.23,15.35,14.7,15.26,15.54, 12.87] #Pon los valores de cada magnitud absoluta que estimes en orden dentro de esta lista"
   ]
  },
  {
   "cell_type": "code",
   "execution_count": 55,
   "metadata": {},
   "outputs": [
    {
     "data": {
      "text/plain": [
       "<matplotlib.lines.Line2D at 0x7f45c80572e8>"
      ]
     },
     "execution_count": 55,
     "metadata": {},
     "output_type": "execute_result"
    },
    {
     "data": {
      "image/png": "[encoded data removed]",
      "text/plain": [
       "<matplotlib.figure.Figure at 0x7f45c8118518>"
      ]
     },
     "metadata": {},
     "output_type": "display_data"
    }
   ],
   "source": [
    "# 2.- Usa esta celda para cargar cada curva, una a la vez y gráficala como se mostró en el ejemplo anterior \n",
    "#     con el gráfico estima el periodo de cada curva ayudandote de la línea punteada vertical\n",
    "#(sigue los pasos desde la celda donde definimos la variable 'obj')\n",
    "\n",
    "\n",
    "i = 8\n",
    "\n",
    "objeto = nombres.iloc[i]\n",
    "nombre_curva = 'datos/I/' + objeto.ID + '.dat'\n",
    "\n",
    "curva = pd.read_csv(nombre_curva)\n",
    "\n",
    "mi = curva.mag\n",
    "t = curva.dia\n",
    "\n",
    "#Y luego las graficamos \n",
    "plt.figure(figsize=(10,5))    #Define el tamaño de nuestro gráfico, puedes no poner esta linea\n",
    "plt.plot(t, mi, 'k.')\n",
    "plt.xlabel('Días')\n",
    "plt.ylabel('magnitud aparente')\n",
    "\n",
    "plt.axvline(22, ls = 'dashed')"
   ]
  },
  {
   "cell_type": "code",
   "execution_count": 56,
   "metadata": {},
   "outputs": [
    {
     "name": "stdout",
     "output_type": "stream",
     "text": [
      "12.8722902097902\n"
     ]
    }
   ],
   "source": [
    "# 3.- Para cada curva que cargaste en la celda anterior calcula su magnitud aparente promedio y llena ty lista\n",
    "\n",
    "m_promedio = mi.mean()\n",
    "print(m_promedio)"
   ]
  },
  {
   "cell_type": "code",
   "execution_count": 59,
   "metadata": {},
   "outputs": [
    {
     "data": {
      "image/png": "[encoded data removed]",
      "text/plain": [
       "<matplotlib.figure.Figure at 0x7f45c7eddf98>"
      ]
     },
     "metadata": {},
     "output_type": "display_data"
    }
   ],
   "source": [
    "# 4.- Grafica la curva de periodo-luminosidad!\n",
    "\n",
    "plt.plot(periodo, magnitud, '.')\n",
    "plt.xlabel('Periodo (dias)')\n",
    "plt.ylabel('magnitud promedio')\n",
    "plt.xscale('log')   #Este comando cambia la escala horizontal a escala logaritmica\n",
    "plt.gca().invert_yaxis()"
   ]
  }
 ],
 "metadata": {
  "kernelspec": {
   "display_name": "Python 3",
   "language": "python",
   "name": "python3"
  },
  "language_info": {
   "codemirror_mode": {
    "name": "ipython",
    "version": 3
   },
   "file_extension": ".py",
   "mimetype": "text/x-python",
   "name": "python",
   "nbconvert_exporter": "python",
   "pygments_lexer": "ipython3",
   "version": "3.6.4"
  }
 },
 "nbformat": 4,
 "nbformat_minor": 2
}
