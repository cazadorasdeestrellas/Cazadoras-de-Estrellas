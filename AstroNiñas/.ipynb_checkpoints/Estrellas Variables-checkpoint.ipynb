{
 "cells": [
  {
   "cell_type": "markdown",
   "metadata": {},
   "source": [
    "# Taller Cazadoras de Estrellas\n",
    "\n",
    "## Módulo de Programación: Estrellas Variables\n",
    "\n",
    "El objetivo de este taller práctico es aprender a utilizar una de las herramientas más populares en la astronomía, la programación. Debido a las grandes cantidades de datos y a la precisión necesaria al estudiar el Universo, en Astronomía es necesario manejar herramientas computacionales que aceleran y dan exactitud a los cálculos.\n",
    "\n",
    "Para esta actividad, dentro del contexto del estudio de las estrellas variables, utilizaremos como motivación el descubrimiento de la *Relación de Período-Luminosidad*, descubierta al rededor de 1912 por Henrietta Swan Leavitt, cuya aplicación directa es la determinación de distancias, tarea importantísima en Astronomía.\n",
    "\n",
    "Mientras trabajaba en el Observatorio del Harvard College como *'calculadora'*, catalogó más de 1700 estrellas variables periódicas en las Nubes Grande y Chica de Magallanes. Henrietta notó que las estrellas Cefeidas con periodos más largos eran más brillantes que las de periodo más corto, y como todas ellas estaban dentro del mismo sistema, es decir a la misma distancia, estas diferencias en brillo debían ser intrínsecas.\n",
    "\n",
    "<img src=\"files/Henrietta-Leavitt.jpg\">\n",
    "\n",
    "\n",
    "En la siguiente actividad, practicaremos algunos conceptos sobre variabilidad y periodicidad utilizando el lenguaje de programación *Python*. Luego, a través de datos de estrellas reales deduciremos la relación de Período-Luminosidad, tal como lo hizo Henrietta Leavitt en 1900."
   ]
  },
  {
   "cell_type": "markdown",
   "metadata": {},
   "source": [
    "### Variabilidad y Periodicidad\n",
    "\n",
    "Comencemos por repasar los conceptos de variabilidad y periodicidad.\n",
    "\n",
    "#### Variabilidad\n",
    "\n",
    "Como ya vimos anteriormente, la variabilidad se refiere a los cambios en las *curvas de luz* de las fuentes espaciales, es decir, cambios en el brillo de un objeto en el cielo a través del tiempo. Existen múltiples tipos de objetos en el Universo que presentan estas variaciones, entre ellos algunos tipos de estrellas.\n",
    "\n",
    "Entre las **estrellas variables**, existen casos en que estas variaciones se repiten en el tiempo, llamamos a este tipo de estrellas variables **periódicas**.\n",
    "\n",
    "<img src=\"files/lc.jpg\" width=\"800\"> \n",
    "\n",
    "En la imágen de la izquierda se ve la curva de luz de una RR Lyrae, que cada medio día repite un patrón de subida y bajada en su brillo. Por otro lado, a la derecha se ve la curva de luz de una Supernova, que tiene un gran aumento de su luminosidad durante su explosión para luego caer lentamente luego de un par de días. El cambio de brillo en la Supernova, a diferencia de las estrellas periódicas, solo ocurre una vez."
   ]
  },
  {
   "cell_type": "markdown",
   "metadata": {},
   "source": [
    "#### Funciones Periódicas\n",
    "\n",
    "\n",
    "Diremos que una función $f(t)$ es **periódica** cuando existe un número $T$, tal que el valor de la función en el tiempo $t$ sea el mismo que para el tiempo $t+T$, es decir:\n",
    "\n",
    "$ f(t + T) = f(t) $\n",
    "\n",
    "Dicho en otras palabras, una función será periódica cuando el trazado de la función sea un patrón que se repite cada cierto intervalo de tiempo. \n",
    "\n",
    "A este intervalo de tiempo $T$ lo llamamos el **periodo**.\n",
    "\n",
    "Como podemos ver en la siguiente imagen, esta función es periódica porque su trazo se repite cada cuatro valores.\n",
    "\n",
    "Por lo tanto su periodo es 4: $T=4$.\n",
    "\n",
    "Si analizamos la función, podemos comprobar que:\n",
    "\n",
    "$f(2)=f(2+4)=f(6)=f(6+4)=f(10)$.\n",
    "\n",
    "<img src=\"files/periodo.jpg\"> "
   ]
  },
  {
   "cell_type": "markdown",
   "metadata": {},
   "source": [
    "#### Ejemplos de funciones periódicas:\n",
    "\n",
    "Si cargamos la librería *iplot*, podemos ver ejemplos de funciones periódicas y cómo estas cambian su forma al cambiar su amplitud (el valor máximo que alcanza) y periodo. Mueve los círculos dentro de las barras para ajustar la amplitud (A) y periodo (T) y observa los cambios en la figura. Las líneas punteadas muestran dos puntos en el gráfico con el mismo valor, mostrando un ciclo."
   ]
  },
  {
   "cell_type": "code",
   "execution_count": null,
   "metadata": {},
   "outputs": [],
   "source": [
    "import iplot as ip    #Librería con herramineta interactiva de funciones periodicas\n",
    "ip.icuadrado() "
   ]
  },
  {
   "cell_type": "code",
   "execution_count": null,
   "metadata": {},
   "outputs": [],
   "source": [
    "ip.icoseno()"
   ]
  },
  {
   "cell_type": "markdown",
   "metadata": {},
   "source": [
    "## Cálculo de distancias utilizando estrellas variables\n",
    "\n",
    "En Astronomía una de las tareas más desafiantes es determinar las distancias a los objetos. Esto, ya que las fuentes tienen distintas luminosidades. Luego, si tenemos 2 objetos a la misma distancia uno más brillante que otro, si no sabemos cuál es su luminosidad real, el más pequeño nos parecerá más distante."
   ]
  },
  {
   "cell_type": "markdown",
   "metadata": {},
   "source": [
    "### Relación distancia-magnitud\n",
    "\n",
    "Podemos definir una relación entre la cantidad de brillo que emite una fuente en el cielo, versus la cantidad de ese brillo que nos llega cuando estamos a una cierta distancia: *La Ley del inverso al cuadrado*, llamada así pues la cantidad de luz emitida (Luminosidad) que recibimos (el Flujo) cae como la distancia al cuadrado.\n",
    "\n",
    "$F = \\frac{L_V}{4\\pi d^2}$\n",
    "\n",
    "Las y los astrónomos utilizan **magnitudes** para referirse al brillo recibido, pues es más fácil de comparar en esta escala (escala logarítmica). La transformación de flujo a magnitud aparente es la siguiente: \n",
    "\n",
    "$m_V = -2.5 \\log_{10}(F_V) + C$\n",
    "\n",
    "Tambien podemos definir la cantidad llamada **Magnitud absoluta**, que corresponde a la magnitud de nuestra fuente si estuviese a una distancia de $10$ $pc$:\n",
    "\n",
    "$M_V = -2.5 \\log_{10}(F_{V,10pc}) + C$\n",
    "\n",
    "Si juntamos ambas ecuaciones y utilizamos la ley del inverso al cuadrado podemos obtener una fórmula para calcular distancias a partir de la diferencia entre la magnitud aparente y absoluta:\n",
    "\n",
    "\n",
    "$m_V - M_V = -2.5 \\log_{10}(\\frac{F_V}{F_{V,10pc}}) + C - C$\n",
    "\n",
    "$d [pc] = 10^{\\frac{m_V - M_V + 5}{5}}$"
   ]
  },
  {
   "cell_type": "markdown",
   "metadata": {},
   "source": [
    "### Relación Periodo-Luminosidad\n",
    "\n",
    "Ahora, no siempre sabemos cuál es la magnitud absoluta de una fuente (o su luminosidad). Es por esto que la Relación de Periodo-Luminosidad es tan importante. Esta relación nos dice qué magnitud absoluta tiene una fuente dependiendo de su periodo, una cantidad mucho más fácil de calcular.\n",
    "\n",
    "<img src=\"files/periodo-luminosidad.png\">\n",
    "\n",
    "Por ejemplo, si observamos una Cefeida Tipo I de la galaxia Andrómeda con:\n",
    "\n",
    "periodo $T=8$ días \n",
    "\n",
    "\n",
    "<img src=\"files/periodo-luminosidad2.png\">\n",
    "\n",
    "en esta curva, la relación de Periodo-Luminosidad nos dirá que su magnitud absoluta es $M_i = -5.1$.\n",
    "\n",
    "Ahora si su magnitud aparente es $m_i = 19.35$.\n",
    "\n",
    "Luego, podemos calcular su distancia como:\n",
    "\n",
    "$d [pc] = 10^{\\frac{19.35 - (-5.1) + 5}{5}} = 776247$,\n",
    "\n",
    "que es aproximadamente la distancia a Andrómeda."
   ]
  },
  {
   "cell_type": "markdown",
   "metadata": {},
   "source": [
    "### Actividad 1: Función de distancia\n",
    "\n",
    "Utilizando lo aprendido sobre funciones en el módulo anterior, te invitamos a definir una función *distancia*, que reciba como parámetros: magnitud aparente $m$ y magnitud absoluta $M$ y que mediante la siguiente expresión calcule la distancia.\n",
    "\n",
    "$f(m,M) = 10^{\\frac{m - M + 5}{5}}$\n",
    "\n",
    "Luego evalúa tu función utlizando los parámetros de la Cefeida anterior: $m_i = 19.35$ y $M_i = -5.1$ y corrobora el resultado mostrado anteriormente."
   ]
  },
  {
   "cell_type": "code",
   "execution_count": null,
   "metadata": {},
   "outputs": [],
   "source": [
    "#Define una función que realice este calculo: \n",
    "#que reciba como parámetros la magnitud aparente y la magnitud absoluta\n",
    "#y devuelva la distancia en parsec\n",
    "\n",
    "def ():\n",
    "    return"
   ]
  },
  {
   "cell_type": "code",
   "execution_count": null,
   "metadata": {},
   "outputs": [],
   "source": [
    "#Evalúa tu función con: m=19.35, M=-5.1\n"
   ]
  },
  {
   "cell_type": "markdown",
   "metadata": {},
   "source": [
    "### Actividad 2: Agregar datos al gráfico de periodo-luminosidad\n",
    "\n",
    "En la siguiente actividad usaremos datos reales de una estrella Cefeida en la Nube Grande de Magallanes (LMC) para estimar su periodos y magnitud promedio. Luego ubicaremos nuestra estrella en la curva de periodo-luminosidad (como en el gráfico anterior).\n",
    "\n",
    "Las siguientes celdas te enseñarán a cargar los datos de una curva (una RR Lyrae) y a graficarla para estimar su periodo desde su curva de luz."
   ]
  },
  {
   "cell_type": "code",
   "execution_count": null,
   "metadata": {},
   "outputs": [],
   "source": [
    "#Comenzamos importando los módulos que usaremos para trabajar\n",
    "\n",
    "import numpy as np                     #Modulo para manejo de matrices\n",
    "import matplotlib.pyplot as plt        #Modulo para graficar\n",
    "import pandas as pd                    #Modulo para manejo de tablas\n",
    "\n",
    "                    \n",
    "#Esta linea nos permite graficar directamente en la pagina web\n",
    "%matplotlib inline "
   ]
  },
  {
   "cell_type": "code",
   "execution_count": null,
   "metadata": {},
   "outputs": [],
   "source": [
    "#Puedes acceder a cada columna de la siguiente forma: obj.nombre_de_columna,\n",
    "#la columna ID contiene el nombre del archivo con la curva de luz deseada \n",
    "\n",
    "nombre_curva = 'datos/I/OGLE-LMC-RRLYR-09258.dat'\n",
    "\n",
    "#Ahora cargamos la tabla de nuestra estrella en la variable curva utilizando la función: pd.read_csv(nombre)\n",
    "\n",
    "curva = pd.read_csv(nombre_curva) "
   ]
  },
  {
   "cell_type": "code",
   "execution_count": null,
   "metadata": {},
   "outputs": [],
   "source": [
    "#En este caso la tabla tiene 3 columnas, dia, magnitud y error\n",
    "\n",
    "print(curva)"
   ]
  },
  {
   "cell_type": "code",
   "execution_count": null,
   "metadata": {},
   "outputs": [],
   "source": [
    "#Seleccionamos las columnas de interés, la primera con el tiempo\n",
    "# y la segunda con las magnitudes aparentes correspondientes a el tiempo\n",
    "\n",
    "mi = curva.mag     #Lista con magnitudes\n",
    "t = curva.dia      #Lista con tiempo en dias"
   ]
  },
  {
   "cell_type": "code",
   "execution_count": null,
   "metadata": {},
   "outputs": [],
   "source": [
    "print(t)"
   ]
  },
  {
   "cell_type": "code",
   "execution_count": null,
   "metadata": {},
   "outputs": [],
   "source": [
    "print(mi)"
   ]
  },
  {
   "cell_type": "code",
   "execution_count": null,
   "metadata": {},
   "outputs": [],
   "source": [
    "#Y luego las graficamos\n",
    "\n",
    "plt.figure(figsize=(10,5))\n",
    "\n",
    "plt.plot(t, mi, 'k.')\n",
    "plt.xlabel('Días')\n",
    "plt.ylabel('magnitud aparente')\n",
    "plt.gca().invert_yaxis()  #Invierte el eje y (la escala de magnitudes está al reves) "
   ]
  },
  {
   "cell_type": "code",
   "execution_count": null,
   "metadata": {},
   "outputs": [],
   "source": [
    "#En este caso la curva no esta 'foldeada', tenemos que foldearla en su periodo para ver su forma real\n",
    "\n",
    "#Tenemos el periodo conocido\n",
    "P = 0.5534047\n",
    "#Y foldeamos\n",
    "t_fold = t % (2*P)\n",
    "\n",
    "#Ahora el grafico muestra la real forma\n",
    "plt.figure(figsize=(10,5))\n",
    "plt.plot(t_fold, mi, 'k.')\n",
    "plt.xlabel('Días')\n",
    "plt.ylabel('magnitud aparente')\n",
    "plt.gca().invert_yaxis()  #Invierte el eje y (la escala de magnitudes está al reves)"
   ]
  },
  {
   "cell_type": "code",
   "execution_count": null,
   "metadata": {},
   "outputs": [],
   "source": [
    "#Ahora el grafico muestra la real forma\n",
    "plt.figure(figsize=(10,5))\n",
    "plt.plot(t_fold, mi, 'k.')\n",
    "plt.xlabel('Días')\n",
    "plt.ylabel('magnitud aparente')\n",
    "plt.gca().invert_yaxis()  #Invierte el eje y (la escala de magnitudes está al reves)\n",
    "\n",
    "\n",
    "#Si agregamos este comando podemos graficar una línea vertical,\n",
    "#Hagamos una línea vertical en el periodo de nuestra estrella \n",
    "plt.axvline(P)  #Si cambias P por un número cualquiera, esta linea se movera "
   ]
  },
  {
   "cell_type": "code",
   "execution_count": null,
   "metadata": {},
   "outputs": [],
   "source": [
    "#Además podemos calcular la magnitud promedio de la estrella con el comando mean\n",
    "\n",
    "m_promedio = mi.mean()\n",
    "\n",
    "print(m_promedio)"
   ]
  },
  {
   "cell_type": "code",
   "execution_count": null,
   "metadata": {},
   "outputs": [],
   "source": [
    "#Ahora el grafico muestra la real forma\n",
    "plt.figure(figsize=(10,5))\n",
    "plt.plot(t_fold, mi, 'k.')\n",
    "plt.xlabel('Días')\n",
    "plt.ylabel('magnitud aparente')\n",
    "plt.gca().invert_yaxis()  #Invierte el eje y (la escala de magnitudes está al reves)\n",
    "\n",
    "plt.axvline(P) \n",
    "\n",
    "#Si agregamos este comando podemos graficar una línea horizontal,\n",
    "#Hagamos una línea horizontal en el promedio de brillo de nuestra estrella \n",
    "plt.axhline(m_promedio)  #Si cambias m_promedio por un número cualquiera, esta linea se movera \n"
   ]
  },
  {
   "cell_type": "markdown",
   "metadata": {},
   "source": [
    "## Manos a la obra!\n",
    "\n",
    "Ahora te invitamos a tí, a imitar el trabajo de Henrietta Leavitt y a partir de la curva de luz de una Cefeida (que ya está foldeada, por lo que debes saltar ese paso y graficar diréctamente la magnitud vs tiempo) y estimar su periodo y magnitud promedio para agregarla al gráfico de periodo-luminosidad.\n",
    "\n",
    "Éxito!"
   ]
  },
  {
   "cell_type": "code",
   "execution_count": null,
   "metadata": {},
   "outputs": [],
   "source": [
    "#Este será el nuevo nombre del archivo que debes cargar\n",
    "\n",
    "nombre_curva = 'datos/I/OGLE-LMC-CEP-0935.dat'"
   ]
  },
  {
   "cell_type": "code",
   "execution_count": null,
   "metadata": {},
   "outputs": [],
   "source": [
    "#Utiliza la función descrita arriba para cargar el archivo\n",
    "\n"
   ]
  },
  {
   "cell_type": "code",
   "execution_count": null,
   "metadata": {},
   "outputs": [],
   "source": [
    "#Separa en dos variables cada columna: dia y magnitud\n",
    "\n"
   ]
  },
  {
   "cell_type": "code",
   "execution_count": null,
   "metadata": {},
   "outputs": [],
   "source": [
    "#Grafica aqui tu curva de luz: magnitud vs tiempo\n",
    "\n",
    "#Ahora el grafico muestra la real forma\n",
    "plt.figure(figsize=(10,5))\n",
    "plt.plot(, , 'k.')\n",
    "plt.xlabel('Días')\n",
    "plt.ylabel('magnitud aparente')\n",
    "plt.gca().invert_yaxis()  #Invierte el eje y (la escala de magnitudes está al reves)\n",
    "\n",
    "plt.axvline()  #Usa esta linea como guia para encontrar el periodo"
   ]
  },
  {
   "cell_type": "code",
   "execution_count": null,
   "metadata": {},
   "outputs": [],
   "source": [
    "#Escribe los valores de periodo y magnitud que estimaste en las siguientes variables\n",
    "\n",
    "periodo = \n",
    "magnitud = "
   ]
  },
  {
   "cell_type": "code",
   "execution_count": null,
   "metadata": {},
   "outputs": [],
   "source": [
    "#Ejecuta esta celda para ver donde en la curva se encontrará tu estrella (marcada con un asterisco *)\n",
    "rel = pd.read_csv('rel_periodo_magnitud.csv')\n",
    "\n",
    "plt.plot(rel.periodo, rel.magnitud, 'o')\n",
    "\n",
    "plt.xscale('log')\n",
    "plt.gca().invert_yaxis()\n",
    "plt.plot(periodo, magnitud, '*')"
   ]
  }
 ],
 "metadata": {
  "kernelspec": {
   "display_name": "Python 3",
   "language": "python",
   "name": "python3"
  },
  "language_info": {
   "codemirror_mode": {
    "name": "ipython",
    "version": 3
   },
   "file_extension": ".py",
   "mimetype": "text/x-python",
   "name": "python",
   "nbconvert_exporter": "python",
   "pygments_lexer": "ipython3",
   "version": "3.6.4"
  }
 },
 "nbformat": 4,
 "nbformat_minor": 2
}
