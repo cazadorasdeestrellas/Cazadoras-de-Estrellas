{
 "cells": [
  {
   "cell_type": "markdown",
   "metadata": {},
   "source": [
    "# Taller Cazadoras de Estrellas\n",
    "\n",
    "## Módulo de Programación: Introducción a python\n"
   ]
  },
  {
   "cell_type": "markdown",
   "metadata": {},
   "source": [
    "El objetivo de éste módulo es enseñarte de forma didáctica, a través de ejemplos sencillos, qué es la programación y cómo programar. \n",
    "\n",
    "En este caso elegimos uno de los lenguajes de programación más usados por la comunidad científica *Python*, que como sus creadores catalogan, *es poderoso... y rápido. Amistoso, fácil de aprender y de libre acceso*. "
   ]
  },
  {
   "cell_type": "markdown",
   "metadata": {},
   "source": [
    "#### Imprimir en pantalla \n",
    "\n",
    "Comencemos con el programa más básico realizable en cualquier lenguaje, el famoso *'Hola Mundo'*, que consiste en imprimir en pantalla una frase simple:"
   ]
  },
  {
   "cell_type": "code",
   "execution_count": null,
   "metadata": {},
   "outputs": [],
   "source": [
    "#Imprimir en pantalla\n",
    "\n",
    "print('Hola mundo')"
   ]
  },
  {
   "cell_type": "markdown",
   "metadata": {},
   "source": [
    "Felicidades!!!! Acabas de ejecutar tu primer programa. Los programas utilizan la impresión en pantalla para interactuar con el usuario, mostrando información importante, haciendo preguntas o presentando los resultados de sus operaciones. De ahora en adelante utilizaremos la operación __*print()*__ para mostrar las tareas realizadas."
   ]
  },
  {
   "cell_type": "markdown",
   "metadata": {},
   "source": [
    "#### Tipos de Variables\n",
    "\n",
    "Como ya aprendimos, las variables son los nombres con que los programas identifican ciertos valores que guardan y existen diferentes tipos de ellas. Cada tipo de variable tiene características propias y entre ellas se relacionan según estas características.\n",
    "\n",
    "En Python, podemos acceder al tipo de variable utilizando el comando __*type()*__."
   ]
  },
  {
   "cell_type": "code",
   "execution_count": null,
   "metadata": {},
   "outputs": [],
   "source": [
    "#Variables\n",
    "\n",
    "x1 = 10             #Números Enteros (int)\n",
    "x2 = 2.5            #Números Decimales (float) \n",
    "x3 = 'blabla'       #Texto (string)\n",
    "x4 = True           #Booleano (bool)\n",
    "\n",
    "\n",
    "print(x1, x2, x3, x4)\n",
    "print(type(x1), type(x2), type(x3), type(x4))"
   ]
  },
  {
   "cell_type": "markdown",
   "metadata": {},
   "source": [
    "#### Operaciones\n",
    "\n",
    "Podemos realizar operaciones a nuestros valores y guardar los resultados de una serie de ellas en variables. Como por ejemplo ejecutar operaciones matemáticas a través de los símbolos que las representan: __+__, __-__, __*__, __/__, etc..."
   ]
  },
  {
   "cell_type": "code",
   "execution_count": null,
   "metadata": {},
   "outputs": [],
   "source": [
    "#Operaciones\n",
    "\n",
    "#Definimos dos variables numéricas y luego las operamos\n",
    "\n",
    "x = 10\n",
    "y = 5\n",
    "\n",
    "print('Suma:')\n",
    "print(x + y)\n",
    "print('Resta:')\n",
    "print(x - y)\n",
    "print('Multiplicación:')\n",
    "print(x * y)\n",
    "print('División:')\n",
    "print(x / y)\n",
    "print('Potencias:')\n",
    "print(x**y)"
   ]
  },
  {
   "cell_type": "code",
   "execution_count": null,
   "metadata": {},
   "outputs": [],
   "source": [
    "#Ahora guardaremos el resultado en una variable nueva\n",
    "z = 10 * x - 2 ** y\n",
    "\n",
    "print(x, y, z)"
   ]
  },
  {
   "cell_type": "markdown",
   "metadata": {},
   "source": [
    "Nota como al operar las variables estas conservan sus valores, y sólo la nueva variable creada contiene el resultado nuevo.\n",
    "\n",
    "Los mismos símbolos de operación matemática se pueden utilizar con otros tipos de variables, por ejemplo operar *strings* entre ellos resulta en su *concatenación*, que significa unir el final de un string con el inicio del siguiente."
   ]
  },
  {
   "cell_type": "code",
   "execution_count": null,
   "metadata": {},
   "outputs": [],
   "source": [
    "#Parentesis y resultados distintos\n",
    "\n",
    "x = 1 + 2 * 3\n",
    "\n",
    "print(x)"
   ]
  },
  {
   "cell_type": "markdown",
   "metadata": {},
   "source": [
    "El orden de la evaluación de las operaciones matemáticas sigue el siguiente orden:\n",
    "\n",
    "Parentesis Exponenciación Multiplicación/División Adición/Sustracción\n",
    "\n",
    "Es importante, tambien, cuando se quiere multiplicar, dividir o elevar una expresión numérica de más de un número, poner todo dentro de un paréntesis."
   ]
  },
  {
   "cell_type": "code",
   "execution_count": null,
   "metadata": {},
   "outputs": [],
   "source": [
    "x = 2 * 4 - 1\n",
    "\n",
    "print(x)"
   ]
  },
  {
   "cell_type": "markdown",
   "metadata": {},
   "source": [
    "¿Qué pasaría si operamos _strings_?"
   ]
  },
  {
   "cell_type": "code",
   "execution_count": null,
   "metadata": {},
   "outputs": [],
   "source": [
    "#Operemos strings\n",
    "\n",
    "s1 = 'pan'\n",
    "s2 = 'que'\n",
    "\n",
    "print(s1 + s2 + s2)\n",
    "print(s1 + 2 * s2)"
   ]
  },
  {
   "cell_type": "code",
   "execution_count": null,
   "metadata": {},
   "outputs": [],
   "source": [
    "#Sigamos operando strings, descomenta (quitando el '#') las siguientes expresiones y prueba sus resultados\n",
    "\n",
    "print(s1 - s2)\n",
    "#print(s1 / s2)\n",
    "#print(s1 + z)\n",
    "#print(s1 + str(z))"
   ]
  },
  {
   "cell_type": "markdown",
   "metadata": {},
   "source": [
    "No todas las operaciones son válidas para todos los tipos de variables. Los últimos dos ejemplos muestran que sólo se pueden concatenar strings con strings y que por lo tanto para pegar una palabra a una variable numérica es necesario convertirlas. Podemos transformar un número en un string utilizando el comando __*str()*__. "
   ]
  },
  {
   "cell_type": "markdown",
   "metadata": {},
   "source": [
    "\n",
    "\n",
    "#### Operaciones condicionales\n",
    "\n",
    "Existe otro tipo de operaciones, que evaluan la \"verdad\" de una expresión. Las expresiones contienen diferentes condiciones, que dependiendo de si se cumplen o no tendrán por resultado booleanos verdadero o falso.\n",
    "\n",
    "Sus operadores son los operadores lógicos: =, >, <, >=, <=, !=, etc..."
   ]
  },
  {
   "cell_type": "code",
   "execution_count": null,
   "metadata": {},
   "outputs": [],
   "source": [
    "#Operadores condicionales\n",
    "\n",
    "x = 10\n",
    "y = 5\n",
    "\n",
    "print(x > y)   #>, <, ==, !="
   ]
  },
  {
   "cell_type": "markdown",
   "metadata": {},
   "source": [
    "#### Funciones\n",
    "\n",
    "Podemos englovar rutinas de código que utilizaremos más de una vez dentro de funciones y así evitar escribirlas una y otra vez. Estas funciones toman argumentos, los cuales procesan, devolviendo uno o más resultados."
   ]
  },
  {
   "cell_type": "code",
   "execution_count": null,
   "metadata": {},
   "outputs": [],
   "source": [
    "#Definición de funciones\n",
    "\n",
    "def funcion(x):\n",
    "    return x"
   ]
  },
  {
   "cell_type": "code",
   "execution_count": null,
   "metadata": {},
   "outputs": [],
   "source": [
    "#Evaluemos\n",
    "\n",
    "print(funcion(1))"
   ]
  },
  {
   "cell_type": "code",
   "execution_count": null,
   "metadata": {},
   "outputs": [],
   "source": [
    "#Funcion intermedia\n",
    "\n",
    "def suma(a,b):\n",
    "    return a + b"
   ]
  },
  {
   "cell_type": "code",
   "execution_count": null,
   "metadata": {},
   "outputs": [],
   "source": [
    "#Evaluemos\n",
    "\n",
    "print(suma(2,3))"
   ]
  },
  {
   "cell_type": "markdown",
   "metadata": {},
   "source": [
    "También podemos usar funciones, *dentro* de nuestras funciones:"
   ]
  },
  {
   "cell_type": "code",
   "execution_count": null,
   "metadata": {},
   "outputs": [],
   "source": [
    "#Transformar de hh:mm a horas con decimales\n",
    "\n",
    "def min_a_hora(minutos):\n",
    "    horas = minutos / 60.0  \n",
    "    return horas\n",
    "\n",
    "def hora_decimales(horas, minutos):\n",
    "    return horas + min_a_hora(minutos)\n"
   ]
  },
  {
   "cell_type": "code",
   "execution_count": null,
   "metadata": {},
   "outputs": [],
   "source": [
    "print(hora_decimales(10,30))"
   ]
  },
  {
   "cell_type": "code",
   "execution_count": null,
   "metadata": {},
   "outputs": [],
   "source": [
    "#Pasemos los argumentos dentro de variables\n",
    "\n",
    "h = 8\n",
    "m = 90\n",
    "\n",
    "print(hora_decimales(h,m))"
   ]
  },
  {
   "cell_type": "markdown",
   "metadata": {},
   "source": [
    "Ahora te toca a tí!\n",
    "\n",
    "Intenta crear la siguiente función matemática: \n",
    "\n",
    "Volumen de una esfera de radio r:             $ V = \\frac{4}{3} \\cdot \\pi \\cdot r^3$"
   ]
  },
  {
   "cell_type": "code",
   "execution_count": null,
   "metadata": {},
   "outputs": [],
   "source": [
    "import math\n",
    "pi = math.pi\n",
    "\n",
    "print(pi)"
   ]
  },
  {
   "cell_type": "code",
   "execution_count": null,
   "metadata": {},
   "outputs": [],
   "source": []
  },
  {
   "cell_type": "markdown",
   "metadata": {},
   "source": [
    "Ahora evaluemos para varios radios: \n",
    "\n",
    "$r = 1$\n",
    "\n",
    "$r = 2$\n",
    "\n",
    "$r = 4$"
   ]
  },
  {
   "cell_type": "code",
   "execution_count": null,
   "metadata": {},
   "outputs": [],
   "source": []
  },
  {
   "cell_type": "markdown",
   "metadata": {},
   "source": [
    "#### Instrucciones condicionales\n",
    "\n",
    "Podemos hacer que nuestros programas ejecuten instrucciones dependiendo de condiciones dadas, utilizando la declaración  __*if*__, donde luego de verificar el estado de la condición, la acción se ejecutará solo si el resultado es verdadero. Además podemos agregar instrucciones para los casos en que la condición no se cumpla utilizando __*else if*__ para agregar más casos o __*else*__ cuando ninguna de las condiciones anteriores es cumplida. "
   ]
  },
  {
   "cell_type": "code",
   "execution_count": null,
   "metadata": {},
   "outputs": [],
   "source": [
    "a = 5\n",
    "\n",
    "if (a > 6):\n",
    "    print('mayor que 6')\n",
    "else:\n",
    "    print('no es mayor que 6')"
   ]
  },
  {
   "cell_type": "code",
   "execution_count": null,
   "metadata": {},
   "outputs": [],
   "source": [
    "#Condiciones\n",
    "\n",
    "\n",
    "x = hora_decimales(20,0)      #Prueba cambiando la hora! \n",
    "\n",
    "if (x < 12):\n",
    "    print('Buenos días')\n",
    "    \n",
    "elif(x == 12):\n",
    "    print('Buenos días/Buenas tardes')\n",
    "    \n",
    "elif (x < 20):\n",
    "    print('Buenas tardes')   \n",
    "\n",
    "else:\n",
    "    print('Buenas Noches')"
   ]
  },
  {
   "cell_type": "markdown",
   "metadata": {},
   "source": [
    "### Uso de Librerías\n",
    "\n",
    "En python podemos agrupar nuestros códigos en librerías que contienen, entre otras cosas, funciones que podemos llamar. Esto nos permite compartir algoritmos, aprovechando las soluciones a problemas generales que la comunidad resulelve de manera eficiente.\n",
    "\n",
    "Las librerías más usadas en python son aquellas que permiten el manejo fácil de matrices y vectores, librerías para graficar y para resolver problemas matemáticos complejos (integrales, etc). \n",
    "\n",
    "Existen además, librerías para usos en áreas específicas, como __*astropy*__ que tiene funciones útiles para la astronomía, como el manejo de coordenadas en el cielo, transformaciones de unidades, etc."
   ]
  },
  {
   "cell_type": "code",
   "execution_count": null,
   "metadata": {},
   "outputs": [],
   "source": [
    "#Ejemplo de uso de librerias para cargar datos y graficar\n",
    "\n",
    "import pandas as pd                #De esta forma importamos una libreria dandole un nombre más corto\n",
    "import matplotlib.pyplot as plt\n",
    "%matplotlib inline\n",
    "\n",
    "\n",
    "#Cargar los datos de una tabla excel\n",
    "tabla = pd.read_csv('tiempo.csv') \n",
    "\n",
    "print(tabla)"
   ]
  },
  {
   "cell_type": "code",
   "execution_count": null,
   "metadata": {},
   "outputs": [],
   "source": [
    "#Podemos acceder a una sola columna con el nombre de la columna deseada\n",
    "print(tabla.Mes)"
   ]
  },
  {
   "cell_type": "code",
   "execution_count": null,
   "metadata": {},
   "outputs": [],
   "source": [
    "#Graficar los datos\n",
    "\n",
    "plt.plot(tabla.Mes.values, tabla.T_Media) "
   ]
  },
  {
   "cell_type": "code",
   "execution_count": null,
   "metadata": {},
   "outputs": [],
   "source": [
    "#Graficar los datos\n",
    "\n",
    "plt.figure(figsize= (10,5))                             #Esta linea cambia el tamaño de nuestro gráfico\n",
    "\n",
    "plt.plot(tabla.Mes, tabla.T_Media, label = 'T Media')    #la variable 'label' le da nombre a nuestra curva\n",
    "plt.plot(tabla.Mes, tabla.T_Max, label = 'T Maxima')\n",
    "plt.plot(tabla.Mes, tabla.T_Min, label = 'T Minima')\n",
    "\n",
    "plt.title('Tiempo en Arica 2018')                 #Con title podemos agregar un titulo        \n",
    "plt.ylabel('Temperatura [C]')                         #Con ylabel (o xlabel) podemos agregar nombres a los ejes\n",
    "plt.xlabel('Mes')\n",
    "plt.legend()                                          #Esta linea hace aparecer el cuadro con los nombres de cada\n",
    "                                                      #curva\n",
    "\n",
    "\n",
    "#Guardamos nuestra imagen en un archivo .png\n",
    "plt.savefig('temperaturas.png')"
   ]
  }
 ],
 "metadata": {
  "kernelspec": {
   "display_name": "Python 3",
   "language": "python",
   "name": "python3"
  },
  "language_info": {
   "codemirror_mode": {
    "name": "ipython",
    "version": 3
   },
   "file_extension": ".py",
   "mimetype": "text/x-python",
   "name": "python",
   "nbconvert_exporter": "python",
   "pygments_lexer": "ipython3",
   "version": "3.6.4"
  }
 },
 "nbformat": 4,
 "nbformat_minor": 2
}
