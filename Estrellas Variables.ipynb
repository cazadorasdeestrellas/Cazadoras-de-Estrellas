{
 "cells": [
  {
   "cell_type": "markdown",
   "metadata": {},
   "source": [
    "# Taller Cazadoras de Estrellas\n",
    "\n",
    "## Módulo de Programación: Estrellas Variables\n",
    "\n",
    "El objetivo de este taller práctico es aprender a utilizar una de las herramientas más populares en la astronomía, la programación. Debido a las grandes cantidades de datos y a la precisión necesaria al estudiar el Universo, en Astronomía es necesario manejar herramientas computacionales que aceleran y dan exactitud a los cálculos.\n",
    "\n",
    "Para esta actividad, dentro del contexto del estudio de las estrellas variables, utilizaremos como motivación el descubrimiento de la *Relación de Período-Luminosidad*, descubierta al rededor de 1912 por Henrietta Swan Leavitt, cuya aplicación directa es la determinación de distancias, tarea importantísima en Astronomía.\n",
    "\n",
    "Mientras trabajaba en el Observatorio del Harvard College como *'calculadora'*, catalogó más de 1700 estrellas variables periódicas en las Nubes Grande y Chica de Magallanes. Henrietta notó que las estrellas Cefeidas con periodos más largos eran más brillantes que las de periodo más corto, y como todas ellas estaban dentro del mismo sistema, es decir a la misma distancia, estas diferencias en brillo debían ser intrínsecas.\n",
    "\n",
    "<img src=\"files/imagenes/Henrietta-Leavitt.jpg\">\n",
    "\n",
    "\n",
    "En la siguiente actividad, practicaremos algunos conceptos sobre variabilidad y periodicidad utilizando el lenguaje de programación *Python*. Luego, a través de datos de estrellas reales deduciremos la relación de Período-Luminosidad, tal como lo hizo Henrietta Leavitt en 1900."
   ]
  },
  {
   "cell_type": "markdown",
   "metadata": {},
   "source": [
    "### Variabilidad y Periodicidad\n",
    "\n",
    "Comencemos por repasar los conceptos de variabilidad y periodicidad.\n",
    "\n",
    "#### Variabilidad\n",
    "\n",
    "Como ya vimos anteriormente, la variabilidad se refiere a los cambios en las *curvas de luz* de las fuentes espaciales, es decir, cambios en el brillo de un objeto en el cielo a través del tiempo. Existen múltiples tipos de objetos en el Universo que presentan estas variaciones, entre ellos algunos tipos de estrellas.\n",
    "\n",
    "Entre las **estrellas variables**, existen casos en que estas variaciones se repiten en el tiempo, llamamos a este tipo de estrellas variables **periódicas**.\n",
    "\n",
    "<img src=\"files/imagenes/lc.jpg\" width=\"800\"> \n",
    "\n",
    "En la imágen de la izquierda se ve la curva de luz de una RR Lyrae, que cada medio día repite un patrón de subida y bajada en su brillo. Por otro lado, a la derecha se ve la curva de luz de una Supernova, que tiene un gran aumento de su luminosidad durante su explosión para luego caer lentamente luego de un par de días. El cambio de brillo en la Supernova, a diferencia de las estrellas periódicas, solo ocurre una vez."
   ]
  },
  {
   "cell_type": "markdown",
   "metadata": {},
   "source": [
    "#### Funciones Periódicas\n",
    "\n",
    "\n",
    "Diremos que una función $f(t)$ es **periódica** cuando existe un número $T$, tal que el valor de la función en el tiempo $t$ sea el mismo que para el tiempo $t+T$, es decir:\n",
    "\n",
    "$ f(t + T) = f(t) $\n",
    "\n",
    "Dicho en otras palabras, una función será periódica cuando el trazado de la función sea un patrón que se repite cada cierto intervalo de tiempo. \n",
    "\n",
    "A este intervalo de tiempo $T$ lo llamamos el **periodo**.\n",
    "\n",
    "Como podemos ver en la siguiente imagen, esta función es periódica porque su trazo se repite cada cuatro valores.\n",
    "\n",
    "Por lo tanto su periodo es 4: $T=4$.\n",
    "\n",
    "Si analizamos la función, podemos comprobar que:\n",
    "\n",
    "$f(2)=f(2+4)=f(6)=f(6+4)=f(10)$.\n",
    "\n",
    "<img src=\"files/imagenes/periodo.jpg\"> "
   ]
  },
  {
   "cell_type": "markdown",
   "metadata": {},
   "source": [
    "#### Ejemplos de funciones periódicas:\n",
    "\n",
    "Si cargamos la librería *iplot*, podemos ver ejemplos de funciones periódicas y cómo estas cambian su forma al cambiar su amplitud (el valor máximo que alcanza) y periodo. Mueve los círculos dentro de las barras para ajustar la amplitud (A) y periodo (T) y observa los cambios en la figura. Las líneas punteadas muestran dos puntos en el gráfico con el mismo valor, mostrando un ciclo."
   ]
  },
  {
   "cell_type": "code",
   "execution_count": null,
   "metadata": {},
   "outputs": [],
   "source": [
    "import iplot as ip    #Librería con herramineta interactiva de funciones periodicas\n",
    "ip.icuadrado() "
   ]
  },
  {
   "cell_type": "code",
   "execution_count": null,
   "metadata": {},
   "outputs": [],
   "source": [
    "ip.icoseno()"
   ]
  },
  {
   "cell_type": "markdown",
   "metadata": {},
   "source": [
    "## Cálculo de distancias utilizando estrellas variables\n",
    "\n",
    "En Astronomía una de las tareas más desafiantes es determinar las distancias a los objetos. Esto, ya que las fuentes tienen distintas luminosidades. Luego, si tenemos 2 objetos a la misma distancia uno más brillante que otro, si no sabemos cuál es su luminosidad real, el más pequeño nos parecerá más distante."
   ]
  },
  {
   "cell_type": "markdown",
   "metadata": {},
   "source": [
    "### Relación distancia-magnitud\n",
    "\n",
    "Podemos definir una relación entre la cantidad de brillo que emite una fuente en el cielo, versus la cantidad de ese brillo que nos llega cuando estamos a una cierta distancia: *La Ley del inverso al cuadrado*, llamada así pues la cantidad de luz emitida (Luminosidad) que recibimos (el Flujo) cae como la distancia al cuadrado.\n",
    "\n",
    "$F = \\frac{L_V}{4\\pi d^2}$\n",
    "\n",
    "Las y los astrónomos utilizan **magnitudes** para referirse al brillo recibido, pues es más fácil de comparar en esta escala (escala logarítmica). La transformación de flujo a magnitud aparente es la siguiente: \n",
    "\n",
    "$m_V = -2.5 \\log_{10}(F_V) + C$\n",
    "\n",
    "Tambien podemos definir la cantidad llamada **Magnitud absoluta**, que corresponde a la magnitud de nuestra fuente si estuviese a una distancia de $10$ $pc$:\n",
    "\n",
    "$M_V = -2.5 \\log_{10}(F_{V,10pc}) + C$\n",
    "\n",
    "Si juntamos ambas ecuaciones y utilizamos la ley del inverso al cuadrado podemos obtener una fórmula para calcular distancias a partir de la diferencia entre la magnitud aparente y absoluta:\n",
    "\n",
    "\n",
    "$m_V - M_V = -2.5 \\log_{10}(\\frac{F_V}{F_{V,10pc}}) + C - C$\n",
    "\n",
    "$d [pc] = 10^{\\frac{m_V - M_V + 5}{5}}$"
   ]
  },
  {
   "cell_type": "markdown",
   "metadata": {},
   "source": [
    "### Relación Periodo-Luminosidad\n",
    "\n",
    "Ahora, no siempre sabemos cuál es la magnitud absoluta de una fuente (o su luminosidad). Es por esto que la Relación de Periodo-Luminosidad es tan importante. Esta relación nos dice qué magnitud absoluta tiene una fuente dependiendo de su periodo, una cantidad mucho más fácil de calcular.\n",
    "\n",
    "<img src=\"files/imagenes/periodo-luminosidad.png\">\n",
    "\n",
    "Por ejemplo, si observamos una Cefeida Tipo I de la galaxia Andrómeda con:\n",
    "\n",
    "periodo $T=8$ días \n",
    "\n",
    "\n",
    "<img src=\"files/imagenes/periodo-luminosidad2.png\">\n",
    "\n",
    "en esta curva, la relación de Periodo-Luminosidad nos dirá que su magnitud absoluta es $M_i = -5.1$.\n",
    "\n",
    "Ahora si su magnitud aparente es $m_i = 19.35$.\n",
    "\n",
    "Luego, podemos calcular su distancia como:\n",
    "\n",
    "$d [pc] = 10^{\\frac{19.35 - (-5.1) + 5}{5}} = 776247$,\n",
    "\n",
    "que es aproximadamente la distancia a Andrómeda."
   ]
  },
  {
   "cell_type": "markdown",
   "metadata": {},
   "source": [
    "### Actividad 1: Función de distancia\n",
    "\n",
    "Utilizando lo aprendido sobre funciones en el módulo anterior, te invitamos a definir una función *distancia*, que reciba como parámetros: magnitud aparente $m$ y magnitud absoluta $M$ y que mediante la siguiente expresión calcule la distancia.\n",
    "\n",
    "$f(m,M) = 10^{\\frac{m - M + 5}{5}}$\n",
    "\n",
    "Luego evalúa tu función utlizando los parámetros de la Cefeida anterior: $m_i = 19.35$ y $M_i = -5.1$ y corrobora el resultado mostrado anteriormente."
   ]
  },
  {
   "cell_type": "code",
   "execution_count": null,
   "metadata": {},
   "outputs": [],
   "source": [
    "#Define una función que realice este calculo: \n",
    "#que reciba como parámetros la magnitud aparente y la magnitud absoluta\n",
    "#y devuelva la distancia en parsec\n",
    "\n",
    "def ():\n",
    "    return "
   ]
  },
  {
   "cell_type": "code",
   "execution_count": null,
   "metadata": {},
   "outputs": [],
   "source": [
    "#Evalúa tu función con: m=19.35, M=-5.1\n"
   ]
  },
  {
   "cell_type": "markdown",
   "metadata": {},
   "source": [
    "### Actividad 2: Crear gráfico de periodo-luminosidad\n",
    "\n",
    "En la siguiente actividad usaremos datos reales de estrellas Cefeida en la Nube Grande de Magallanes (LMC) para estimar sus periodos y magnitud promedio. Luego ubicaremos estos datos en un gráfico de priodo vs luminosidad, para encontrar la relación descrita por Henrietta Leavitt.\n",
    "\n",
    "Las siguientes celdas te mostrarán como se cargan los datos de una estrella, se gafica su curva de luz y luego se estima su periodo y magnitud promedio."
   ]
  },
  {
   "cell_type": "code",
   "execution_count": null,
   "metadata": {},
   "outputs": [],
   "source": [
    "#Comenzamos importando los módulos que usaremos para trabajar\n",
    "\n",
    "import numpy as np                     #Modulo para manejo de matrices\n",
    "import matplotlib.pyplot as plt        #Modulo para graficar\n",
    "import pandas as pd                    #Modulo para manejo de tablas\n",
    "\n",
    "                    \n",
    "#Esta linea nos permite graficar directamente en la pagina web\n",
    "%matplotlib inline "
   ]
  },
  {
   "cell_type": "markdown",
   "metadata": {},
   "source": [
    "Comenzaremos por cargar el archivo con los datos, esta es una tabla de dos columnas: (dia, magnitud)"
   ]
  },
  {
   "cell_type": "code",
   "execution_count": null,
   "metadata": {},
   "outputs": [],
   "source": [
    "# Cargar curva a una tabla\n",
    "\n",
    "nombre_archivo = 'datos/I/OGLE-LMC-RRLYR-09258.dat'\n",
    "tabla = pd.read_csv(nombre_archivo)"
   ]
  },
  {
   "cell_type": "code",
   "execution_count": null,
   "metadata": {},
   "outputs": [],
   "source": [
    "print(tabla)"
   ]
  },
  {
   "cell_type": "code",
   "execution_count": null,
   "metadata": {},
   "outputs": [],
   "source": [
    "# Separar en dos listas magnitud y periodo\n",
    "\n",
    "mag = tabla.mag\n",
    "dia = tabla.dia"
   ]
  },
  {
   "cell_type": "code",
   "execution_count": null,
   "metadata": {},
   "outputs": [],
   "source": [
    "print(dia)"
   ]
  },
  {
   "cell_type": "code",
   "execution_count": null,
   "metadata": {},
   "outputs": [],
   "source": [
    "# Graficar  mag vs dia\n",
    "\n",
    "plt.plot(dia % (2 * 0.5534047), mag, '.')"
   ]
  },
  {
   "cell_type": "code",
   "execution_count": null,
   "metadata": {},
   "outputs": [],
   "source": [
    "#Hacer floding de curva\n",
    "\n",
    "plt.figure(figsize=(10,5))\n",
    "plt.plot(dia % (2 * 0.5534047), mag, '.')\n",
    "plt.gca().invert_yaxis()\n",
    "\n",
    "#Agregar nombres a ejes"
   ]
  },
  {
   "cell_type": "code",
   "execution_count": null,
   "metadata": {},
   "outputs": [],
   "source": [
    "# Estimación de periodo\n",
    "\n",
    "plt.figure(figsize=(10,5))\n",
    "plt.plot(dia % (2 * 0.5534047), mag, '.')\n",
    "plt.gca().invert_yaxis()\n",
    "\n",
    "plt.xlabel('Dia')\n",
    "plt.ylabel('Magnitud aparente')\n",
    "\n",
    "plt.axvline(0.55)\n",
    "plt.axhline(mag.mean())"
   ]
  },
  {
   "cell_type": "markdown",
   "metadata": {},
   "source": [
    "## Manos a la obra!\n",
    "\n",
    "Ahora te invitamos a tí, a imitar el trabajo de Henrietta Leavitt y a partir de las curvas de luz que te mostramos a continuación estimes el periodo, para generar un gráfico periodo vs magnitud.\n",
    "\n",
    "Para cada curva de luz, elige la cantidad de dias que le toma a la curva repetir su forma (el periodo) y escribelas en la siguiente celda en una lista llamada _'periodo'_. Luego anota las magnitudes promedio escritas en cada gráfico en otra lista llamada _'magnitud'_. A cada valor en la lista periodo debe corresponderle una magnitud (cuida el orden en que ingresas los datos y el tamaño de cada lista).\n",
    "\n",
    "Éxito!"
   ]
  },
  {
   "cell_type": "markdown",
   "metadata": {},
   "source": [
    "<img src=\"files/imagenes/estrella1.png\" width=\"800\">\n",
    "<img src=\"files/imagenes/estrella2.png\" width=\"800\">\n",
    "<img src=\"files/imagenes/estrella3.png\" width=\"800\">\n",
    "<img src=\"files/imagenes/estrella4.png\" width=\"800\">\n",
    "<img src=\"files/imagenes/estrella5.png\" width=\"800\">\n",
    "<img src=\"files/imagenes/estrella6.png\" width=\"800\">\n",
    "<img src=\"files/imagenes/estrella8.png\" width=\"800\">\n",
    "<img src=\"files/imagenes/estrella9.png\" width=\"800\">\n",
    "<img src=\"files/imagenes/estrella10.png\" width=\"800\">\n",
    "<img src=\"files/imagenes/estrella11.png\" width=\"800\">\n",
    "<img src=\"files/imagenes/estrella12.png\" width=\"800\">\n",
    "<img src=\"files/imagenes/estrella13.png\" width=\"800\">\n",
    "<img src=\"files/imagenes/estrella14.png\" width=\"800\">"
   ]
  },
  {
   "cell_type": "markdown",
   "metadata": {},
   "source": [
    "Escribe en la siguiente celda los valores correspondientes a los periodos y magnitudes para cada uno de los gráficos en la imágenes anteriores. Recuerda que debes escribir la lista entre paréntesis y poniendo comas entre cada objeto:\n",
    "\n",
    "lista = (a,b,c,d,e,....)"
   ]
  },
  {
   "cell_type": "code",
   "execution_count": null,
   "metadata": {},
   "outputs": [],
   "source": [
    "#Escribe los valores de periodo y magnitud que estimaste en las siguientes variables\n",
    "\n",
    "periodo = ()\n",
    "magnitud = ()"
   ]
  },
  {
   "cell_type": "markdown",
   "metadata": {},
   "source": [
    "Ejecuta la siguiente celda, tal como está, y mira el resultado que obtuviste. ¿Ves una relación periodo-magnitud parecida a la del siguiente gráfico?\n",
    "\n",
    "<img src=\"files/imagenes/periodo-luminosidad.png\">"
   ]
  },
  {
   "cell_type": "code",
   "execution_count": null,
   "metadata": {},
   "outputs": [],
   "source": [
    "#Ejecuta esta celda para ver donde en la curva se encontrará tu estrella (marcada con un asterisco *)\n",
    "\n",
    "plt.plot(periodo, magnitud, 'o')\n",
    "\n",
    "plt.gca().invert_yaxis()"
   ]
  },
  {
   "cell_type": "markdown",
   "metadata": {},
   "source": [
    "El eje del tiempo (periodo) debe estar en *__escala logarítmica__* (donde cada espacio avanza en potencias de diez, en vez de uno en uno) para ver la relación periodo-luminosidad.\n",
    "\n",
    "Intenta agregar la siguiente linea a tu gráfico:\n",
    "\n",
    "__plt.xscale('log')__"
   ]
  },
  {
   "cell_type": "code",
   "execution_count": null,
   "metadata": {},
   "outputs": [],
   "source": [
    "# Personaliza ti gráfico, agregando nombres a los ejes, titulo, colores, etc...\n",
    "\n",
    "plt.plot(periodo, magnitud, 'o')\n",
    "\n",
    "plt.gca().invert_yaxis()"
   ]
  }
 ],
 "metadata": {
  "kernelspec": {
   "display_name": "Python 3",
   "language": "python",
   "name": "python3"
  },
  "language_info": {
   "codemirror_mode": {
    "name": "ipython",
    "version": 3
   },
   "file_extension": ".py",
   "mimetype": "text/x-python",
   "name": "python",
   "nbconvert_exporter": "python",
   "pygments_lexer": "ipython3",
   "version": "3.6.4"
  }
 },
 "nbformat": 4,
 "nbformat_minor": 2
}
