{
 "cells": [
  {
   "cell_type": "markdown",
   "metadata": {},
   "source": [
    "# Taller Cazadoras de Estrellas\n",
    "\n",
    "## Módulo de Programación: Estrellas Variables\n",
    "\n",
    "El objetivo de este taller práctico es aprender a utilizar una de las herramientas más populares en la astronomía, la programación. Debido a las grandes cantidades de datos y a la precisión necesaria al estudiar el Universo, en Astronomía es necesario manejar herramientas computacionales que aceleran y dan exactitud a los cálculos.\n",
    "\n",
    "Para esta actividad, dentro del contexto del estudio de las estrellas variables, utilizaremos como motivación el descubrimiento de la *Relación de Período-Luminosidad*, descubierta al rededor de 1912 por Henrietta Swan Leavitt, cuya aplicación directa es la determinación de distancias, tarea importantísima en Astronomía.\n",
    "\n",
    "Mientras trabajaba en el Observatorio del Harvard College como *'calculadora'*, catalogó más de 1700 estrellas variables periódicas en las Nubes Grande y Chica de Magallanes. Henrietta notó que las estrellas Cefeidas con periodos más largos eran más brillantes que las de periodo más corto, y como todas ellas estaban dentro del mismo sistema, es decir a la misma distancia, estas diferencias en brillo debían ser intrínsecas.\n",
    "\n",
    "<img src=\"files/imagenes/Henrietta-Leavitt.jpg\">\n",
    "\n",
    "\n",
    "En la siguiente actividad, practicaremos algunos conceptos sobre variabilidad y periodicidad utilizando el lenguaje de programación *Python*. Luego, a través de datos de estrellas reales deduciremos la relación de Período-Luminosidad, tal como lo hizo Henrietta Leavitt en 1900."
   ]
  },
  {
   "cell_type": "markdown",
   "metadata": {},
   "source": [
    "### Variabilidad y Periodicidad\n",
    "\n",
    "Comencemos por repasar los conceptos de variabilidad y periodicidad.\n",
    "\n",
    "#### Variabilidad\n",
    "\n",
    "Como ya vimos anteriormente, la variabilidad se refiere a los cambios en las *curvas de luz* de las fuentes espaciales, es decir, cambios en el brillo de un objeto en el cielo a través del tiempo. Existen múltiples tipos de objetos en el Universo que presentan estas variaciones, entre ellos algunos tipos de estrellas.\n",
    "\n",
    "Entre las **estrellas variables**, existen casos en que estas variaciones se repiten en el tiempo, llamamos a este tipo de estrellas variables **periódicas**.\n",
    "\n",
    "<img src=\"files/imagenes/lc.jpg\" width=\"800\"> \n",
    "\n",
    "En la imágen de la izquierda se ve la curva de luz de una RR Lyrae, que cada medio día repite un patrón de subida y bajada en su brillo. Por otro lado, a la derecha se ve la curva de luz de una Supernova, que tiene un gran aumento de su luminosidad durante su explosión para luego caer lentamente luego de un par de días. El cambio de brillo en la Supernova, a diferencia de las estrellas periódicas, solo ocurre una vez."
   ]
  },
  {
   "cell_type": "markdown",
   "metadata": {},
   "source": [
    "#### Funciones Periódicas\n",
    "\n",
    "\n",
    "Diremos que una función $f(t)$ es **periódica** cuando existe un número $T$, tal que el valor de la función en el tiempo $t$ sea el mismo que para el tiempo $t+T$, es decir:\n",
    "\n",
    "$ f(t + T) = f(t) $\n",
    "\n",
    "Dicho en otras palabras, una función será periódica cuando el trazado de la función sea un patrón que se repite cada cierto intervalo de tiempo. \n",
    "\n",
    "A este intervalo de tiempo $T$ lo llamamos el **periodo**.\n",
    "\n",
    "Como podemos ver en la siguiente imagen, esta función es periódica porque su trazo se repite cada cuatro valores.\n",
    "\n",
    "Por lo tanto su periodo es 4: $T=4$.\n",
    "\n",
    "Si analizamos la función, podemos comprobar que:\n",
    "\n",
    "$f(2)=f(2+4)=f(6)=f(6+4)=f(10)$.\n",
    "\n",
    "<img src=\"files/imagenes/periodo.jpg\"> "
   ]
  },
  {
   "cell_type": "markdown",
   "metadata": {},
   "source": [
    "#### Ejemplos de funciones periódicas:\n",
    "\n",
    "Si cargamos la librería *iplot*, podemos ver ejemplos de funciones periódicas y cómo estas cambian su forma al cambiar su amplitud (el valor máximo que alcanza) y periodo. Mueve los círculos dentro de las barras para ajustar la amplitud (A) y periodo (T) y observa los cambios en la figura. Las líneas punteadas muestran dos puntos en el gráfico con el mismo valor, mostrando un ciclo."
   ]
  },
  {
   "cell_type": "code",
   "execution_count": 1,
   "metadata": {},
   "outputs": [
    {
     "data": {
      "application/vnd.jupyter.widget-view+json": {
       "model_id": "50fe6fbf0eed44d682867a4ba77da954",
       "version_major": 2,
       "version_minor": 0
      },
      "text/plain": [
       "interactive(children=(FloatSlider(value=10.0, description='A', max=20.0), FloatSlider(value=4.6, description='…"
      ]
     },
     "metadata": {},
     "output_type": "display_data"
    }
   ],
   "source": [
    "import iplot as ip    #Librería con herramineta interactiva de funciones periodicas\n",
    "ip.icuadrado() "
   ]
  },
  {
   "cell_type": "code",
   "execution_count": 2,
   "metadata": {},
   "outputs": [
    {
     "data": {
      "application/vnd.jupyter.widget-view+json": {
       "model_id": "49752d62795f45b88e28372db76ef78f",
       "version_major": 2,
       "version_minor": 0
      },
      "text/plain": [
       "interactive(children=(FloatSlider(value=10.0, description='A', max=20.0), FloatSlider(value=2.5000000000000004…"
      ]
     },
     "metadata": {},
     "output_type": "display_data"
    }
   ],
   "source": [
    "ip.icoseno()"
   ]
  },
  {
   "cell_type": "markdown",
   "metadata": {},
   "source": [
    "## Cálculo de distancias utilizando estrellas variables\n",
    "\n",
    "En Astronomía una de las tareas más desafiantes es determinar las distancias a los objetos. Esto, ya que las fuentes tienen distintas luminosidades. Luego, si tenemos 2 objetos a la misma distancia uno más brillante que otro, si no sabemos cuál es su luminosidad real, el más pequeño nos parecerá más distante."
   ]
  },
  {
   "cell_type": "markdown",
   "metadata": {},
   "source": [
    "### Relación distancia-magnitud\n",
    "\n",
    "Podemos definir una relación entre la cantidad de brillo que emite una fuente en el cielo, versus la cantidad de ese brillo que nos llega cuando estamos a una cierta distancia: *La Ley del inverso al cuadrado*, llamada así pues la cantidad de luz emitida (Luminosidad) que recibimos (el Flujo) cae como la distancia al cuadrado.\n",
    "\n",
    "$F = \\frac{L_V}{4\\pi d^2}$\n",
    "\n",
    "Las y los astrónomos utilizan **magnitudes** para referirse al brillo recibido, pues es más fácil de comparar en esta escala (escala logarítmica). La transformación de flujo a magnitud aparente es la siguiente: \n",
    "\n",
    "$m_V = -2.5 \\log_{10}(F_V) + C$\n",
    "\n",
    "Tambien podemos definir la cantidad llamada **Magnitud absoluta**, que corresponde a la magnitud de nuestra fuente si estuviese a una distancia de $10$ $pc$:\n",
    "\n",
    "$M_V = -2.5 \\log_{10}(F_{V,10pc}) + C$\n",
    "\n",
    "Si juntamos ambas ecuaciones y utilizamos la ley del inverso al cuadrado podemos obtener una fórmula para calcular distancias a partir de la diferencia entre la magnitud aparente y absoluta:\n",
    "\n",
    "\n",
    "$m_V - M_V = -2.5 \\log_{10}(\\frac{F_V}{F_{V,10pc}}) + C - C$\n",
    "\n",
    "$d [pc] = 10^{\\frac{m_V - M_V + 5}{5}}$"
   ]
  },
  {
   "cell_type": "markdown",
   "metadata": {},
   "source": [
    "### Relación Periodo-Luminosidad\n",
    "\n",
    "Ahora, no siempre sabemos cuál es la magnitud absoluta de una fuente (o su luminosidad). Es por esto que la Relación de Periodo-Luminosidad es tan importante. Esta relación nos dice qué magnitud absoluta tiene una fuente dependiendo de su periodo, una cantidad mucho más fácil de calcular.\n",
    "\n",
    "<img src=\"files/imagenes/periodo-luminosidad.png\">\n",
    "\n",
    "Por ejemplo, si observamos una Cefeida Tipo I de la galaxia Andrómeda con:\n",
    "\n",
    "periodo $T=8$ días \n",
    "\n",
    "\n",
    "<img src=\"files/imagenes/periodo-luminosidad2.png\">\n",
    "\n",
    "en esta curva, la relación de Periodo-Luminosidad nos dirá que su magnitud absoluta es $M_i = -5.1$.\n",
    "\n",
    "Ahora si su magnitud aparente es $m_i = 19.35$.\n",
    "\n",
    "Luego, podemos calcular su distancia como:\n",
    "\n",
    "$d [pc] = 10^{\\frac{19.35 - (-5.1) + 5}{5}} = 776247$,\n",
    "\n",
    "que es aproximadamente la distancia a Andrómeda."
   ]
  },
  {
   "cell_type": "markdown",
   "metadata": {},
   "source": [
    "### Actividad 1: Función de distancia\n",
    "\n",
    "Utilizando lo aprendido sobre funciones en el módulo anterior, te invitamos a definir una función *distancia*, que reciba como parámetros: magnitud aparente $m$ y magnitud absoluta $M$ y que mediante la siguiente expresión calcule la distancia.\n",
    "\n",
    "$f(m,M) = 10^{\\frac{m - M + 5}{5}}$\n",
    "\n",
    "Luego evalúa tu función utlizando los parámetros de la Cefeida anterior: $m_i = 19.35$ y $M_i = -5.1$ y corrobora el resultado mostrado anteriormente."
   ]
  },
  {
   "cell_type": "code",
   "execution_count": null,
   "metadata": {},
   "outputs": [],
   "source": [
    "#Define una función que realice este calculo: \n",
    "#que reciba como parámetros la magnitud aparente y la magnitud absoluta\n",
    "#y devuelva la distancia en parsec\n",
    "\n",
    "def ():\n",
    "    return "
   ]
  },
  {
   "cell_type": "code",
   "execution_count": null,
   "metadata": {},
   "outputs": [],
   "source": [
    "#Evalúa tu función con: m=19.35, M=-5.1\n",
    "distancia(19.35,-5.1)"
   ]
  },
  {
   "cell_type": "markdown",
   "metadata": {},
   "source": [
    "### Actividad 2: Agregar datos al gráfico de periodo-luminosidad\n",
    "\n",
    "En la siguiente actividad usaremos datos reales de una estrella Cefeida en la Nube Grande de Magallanes (LMC) para estimar su periodos y magnitud promedio. Luego ubicaremos nuestra estrella en la curva de periodo-luminosidad (como en el gráfico anterior).\n",
    "\n",
    "Las siguientes celdas te enseñarán a cargar los datos de una curva (una RR Lyrae) y a graficarla para estimar su periodo desde su curva de luz."
   ]
  },
  {
   "cell_type": "code",
   "execution_count": 2,
   "metadata": {},
   "outputs": [],
   "source": [
    "#Comenzamos importando los módulos que usaremos para trabajar\n",
    "\n",
    "import numpy as np                     #Modulo para manejo de matrices\n",
    "import matplotlib.pyplot as plt        #Modulo para graficar\n",
    "import pandas as pd                    #Modulo para manejo de tablas\n",
    "\n",
    "                    \n",
    "#Esta linea nos permite graficar directamente en la pagina web\n",
    "%matplotlib inline "
   ]
  },
  {
   "cell_type": "code",
   "execution_count": 3,
   "metadata": {},
   "outputs": [],
   "source": [
    "#Puedes acceder a cada columna de la siguiente forma: obj.nombre_de_columna,\n",
    "#la columna ID contiene el nombre del archivo con la curva de luz deseada \n",
    "\n",
    "nombre_curva = 'datos/I/OGLE-LMC-CEP-0784.dat'\n",
    "\n",
    "#Ahora cargamos la tabla de nuestra estrella en la variable curva utilizando la función: pd.read_csv(nombre)\n",
    "\n",
    "curva = pd.read_csv(nombre_curva) "
   ]
  },
  {
   "cell_type": "code",
   "execution_count": 4,
   "metadata": {
    "collapsed": true
   },
   "outputs": [
    {
     "name": "stdout",
     "output_type": "stream",
     "text": [
      "          dia     mag    err\n",
      "0    0.934466  16.369  0.012\n",
      "1    1.160099  16.481  0.014\n",
      "2    0.305342  16.478  0.014\n",
      "3    1.101746  16.466  0.018\n",
      "4    0.438721  16.481  0.015\n",
      "5    0.573924  16.463  0.015\n",
      "6    1.583474  16.388  0.012\n",
      "7    0.783877  16.339  0.012\n",
      "8    1.603267  16.372  0.014\n",
      "9    0.743000  16.338  0.014\n",
      "10   0.985632  16.401  0.014\n",
      "11   0.178465  16.454  0.015\n",
      "12   1.239865  16.486  0.015\n",
      "13   1.410488  16.502  0.018\n",
      "14   0.476671  16.502  0.016\n",
      "15   0.797926  16.323  0.012\n",
      "16   0.014779  16.381  0.014\n",
      "17   0.197852  16.459  0.015\n",
      "18   1.697270  16.338  0.015\n",
      "19   0.171709  16.432  0.014\n",
      "20   1.360052  16.485  0.015\n",
      "21   0.625667  16.422  0.014\n",
      "22   0.804540  16.337  0.015\n",
      "23   0.975303  16.387  0.012\n",
      "24   0.464841  16.492  0.014\n",
      "25   0.641924  16.409  0.012\n",
      "26   0.085662  16.411  0.014\n",
      "27   1.243275  16.504  0.015\n",
      "28   0.922373  16.368  0.012\n",
      "29   0.027186  16.388  0.014\n",
      "..        ...     ...    ...\n",
      "618  1.002828  16.418  0.012\n",
      "619  0.264444  16.496  0.008\n",
      "620  0.628529  16.431  0.010\n",
      "621  0.018905  16.368  0.010\n",
      "622  0.213280  16.445  0.011\n",
      "623  1.691966  16.345  0.008\n",
      "624  0.856862  16.362  0.010\n",
      "625  1.180337  16.488  0.010\n",
      "626  1.398210  16.497  0.011\n",
      "627  0.752966  16.344  0.010\n",
      "628  1.040331  16.414  0.008\n",
      "629  0.357527  16.490  0.008\n",
      "630  0.683932  16.381  0.008\n",
      "631  0.138001  16.431  0.008\n",
      "632  0.462466  16.495  0.008\n",
      "633  0.866192  16.342  0.010\n",
      "634  1.113398  16.449  0.010\n",
      "635  0.602556  16.445  0.010\n",
      "636  0.067864  16.400  0.008\n",
      "637  1.223247  16.481  0.010\n",
      "638  0.648386  16.398  0.008\n",
      "639  0.820718  16.339  0.008\n",
      "640  1.062351  16.437  0.010\n",
      "641  1.499120  16.473  0.012\n",
      "642  0.895335  16.369  0.010\n",
      "643  0.901318  16.378  0.010\n",
      "644  0.777672  16.330  0.008\n",
      "645  0.968305  16.394  0.008\n",
      "646  0.416973  16.498  0.010\n",
      "647  1.630486  16.375  0.010\n",
      "\n",
      "[648 rows x 3 columns]\n"
     ]
    }
   ],
   "source": [
    "#En este caso la tabla tiene 3 columnas, dia, magnitud y error\n",
    "\n",
    "print(curva)"
   ]
  },
  {
   "cell_type": "code",
   "execution_count": 5,
   "metadata": {},
   "outputs": [],
   "source": [
    "#Seleccionamos las columnas de interés, la primera con el tiempo\n",
    "# y la segunda con las magnitudes aparentes correspondientes a el tiempo\n",
    "\n",
    "mi = curva.mag     #Lista con magnitudes\n",
    "t = curva.dia      #Lista con tiempo en dias"
   ]
  },
  {
   "cell_type": "code",
   "execution_count": 6,
   "metadata": {
    "collapsed": true
   },
   "outputs": [
    {
     "name": "stdout",
     "output_type": "stream",
     "text": [
      "0      0.934466\n",
      "1      1.160099\n",
      "2      0.305342\n",
      "3      1.101746\n",
      "4      0.438721\n",
      "5      0.573924\n",
      "6      1.583474\n",
      "7      0.783877\n",
      "8      1.603267\n",
      "9      0.743000\n",
      "10     0.985632\n",
      "11     0.178465\n",
      "12     1.239865\n",
      "13     1.410488\n",
      "14     0.476671\n",
      "15     0.797926\n",
      "16     0.014779\n",
      "17     0.197852\n",
      "18     1.697270\n",
      "19     0.171709\n",
      "20     1.360052\n",
      "21     0.625667\n",
      "22     0.804540\n",
      "23     0.975303\n",
      "24     0.464841\n",
      "25     0.641924\n",
      "26     0.085662\n",
      "27     1.243275\n",
      "28     0.922373\n",
      "29     0.027186\n",
      "         ...   \n",
      "618    1.002828\n",
      "619    0.264444\n",
      "620    0.628529\n",
      "621    0.018905\n",
      "622    0.213280\n",
      "623    1.691966\n",
      "624    0.856862\n",
      "625    1.180337\n",
      "626    1.398210\n",
      "627    0.752966\n",
      "628    1.040331\n",
      "629    0.357527\n",
      "630    0.683932\n",
      "631    0.138001\n",
      "632    0.462466\n",
      "633    0.866192\n",
      "634    1.113398\n",
      "635    0.602556\n",
      "636    0.067864\n",
      "637    1.223247\n",
      "638    0.648386\n",
      "639    0.820718\n",
      "640    1.062351\n",
      "641    1.499120\n",
      "642    0.895335\n",
      "643    0.901318\n",
      "644    0.777672\n",
      "645    0.968305\n",
      "646    0.416973\n",
      "647    1.630486\n",
      "Name: dia, Length: 648, dtype: float64\n"
     ]
    }
   ],
   "source": [
    "print(t)"
   ]
  },
  {
   "cell_type": "code",
   "execution_count": 7,
   "metadata": {
    "collapsed": true
   },
   "outputs": [
    {
     "name": "stdout",
     "output_type": "stream",
     "text": [
      "0      16.369\n",
      "1      16.481\n",
      "2      16.478\n",
      "3      16.466\n",
      "4      16.481\n",
      "5      16.463\n",
      "6      16.388\n",
      "7      16.339\n",
      "8      16.372\n",
      "9      16.338\n",
      "10     16.401\n",
      "11     16.454\n",
      "12     16.486\n",
      "13     16.502\n",
      "14     16.502\n",
      "15     16.323\n",
      "16     16.381\n",
      "17     16.459\n",
      "18     16.338\n",
      "19     16.432\n",
      "20     16.485\n",
      "21     16.422\n",
      "22     16.337\n",
      "23     16.387\n",
      "24     16.492\n",
      "25     16.409\n",
      "26     16.411\n",
      "27     16.504\n",
      "28     16.368\n",
      "29     16.388\n",
      "        ...  \n",
      "618    16.418\n",
      "619    16.496\n",
      "620    16.431\n",
      "621    16.368\n",
      "622    16.445\n",
      "623    16.345\n",
      "624    16.362\n",
      "625    16.488\n",
      "626    16.497\n",
      "627    16.344\n",
      "628    16.414\n",
      "629    16.490\n",
      "630    16.381\n",
      "631    16.431\n",
      "632    16.495\n",
      "633    16.342\n",
      "634    16.449\n",
      "635    16.445\n",
      "636    16.400\n",
      "637    16.481\n",
      "638    16.398\n",
      "639    16.339\n",
      "640    16.437\n",
      "641    16.473\n",
      "642    16.369\n",
      "643    16.378\n",
      "644    16.330\n",
      "645    16.394\n",
      "646    16.498\n",
      "647    16.375\n",
      "Name: mag, Length: 648, dtype: float64\n"
     ]
    }
   ],
   "source": [
    "print(mi)"
   ]
  },
  {
   "cell_type": "code",
   "execution_count": 8,
   "metadata": {},
   "outputs": [
    {
     "data": {
      "image/png": "[encoded data removed]",
      "text/plain": [
       "<matplotlib.figure.Figure at 0x7f1964b27cc0>"
      ]
     },
     "metadata": {},
     "output_type": "display_data"
    }
   ],
   "source": [
    "#Y luego las graficamos\n",
    "\n",
    "plt.figure(figsize=(10,5))\n",
    "\n",
    "plt.plot(t, mi, 'k.')\n",
    "plt.xlabel('Días')\n",
    "plt.ylabel('magnitud aparente')\n",
    "plt.gca().invert_yaxis()  #Invierte el eje y (la escala de magnitudes está al reves) "
   ]
  },
  {
   "cell_type": "code",
   "execution_count": 11,
   "metadata": {},
   "outputs": [
    {
     "data": {
      "text/plain": [
       "<matplotlib.lines.Line2D at 0x7f195c5c4b00>"
      ]
     },
     "execution_count": 11,
     "metadata": {},
     "output_type": "execute_result"
    },
    {
     "data": {
      "image/png": "[encoded data removed]",
      "text/plain": [
       "<matplotlib.figure.Figure at 0x7f198824c358>"
      ]
     },
     "metadata": {},
     "output_type": "display_data"
    }
   ],
   "source": [
    "#Ahora el grafico muestra la real forma\n",
    "plt.figure(figsize=(10,5))\n",
    "plt.plot(t, mi, 'k.')\n",
    "plt.xlabel('Días')\n",
    "plt.ylabel('magnitud aparente')\n",
    "plt.gca().invert_yaxis()  #Invierte el eje y (la escala de magnitudes está al reves)\n",
    "\n",
    "\n",
    "#Si agregamos este comando podemos graficar una línea vertical,\n",
    "#Hagamos una línea vertical en el periodo de nuestra estrella \n",
    "plt.axvline(0.85)  #Si cambias P por un número cualquiera, esta linea se movera "
   ]
  },
  {
   "cell_type": "code",
   "execution_count": 12,
   "metadata": {},
   "outputs": [
    {
     "name": "stdout",
     "output_type": "stream",
     "text": [
      "16.428186728395033\n"
     ]
    }
   ],
   "source": [
    "#Además podemos calcular la magnitud promedio de la estrella con el comando mean\n",
    "\n",
    "m_promedio = mi.mean()\n",
    "\n",
    "print(m_promedio)"
   ]
  },
  {
   "cell_type": "code",
   "execution_count": 15,
   "metadata": {},
   "outputs": [
    {
     "data": {
      "text/plain": [
       "<matplotlib.lines.Line2D at 0x7f195c25ad30>"
      ]
     },
     "execution_count": 15,
     "metadata": {},
     "output_type": "execute_result"
    },
    {
     "data": {
      "image/png": "[encoded data removed]",
      "text/plain": [
       "<matplotlib.figure.Figure at 0x7f195c2f7668>"
      ]
     },
     "metadata": {},
     "output_type": "display_data"
    }
   ],
   "source": [
    "#Ahora el grafico muestra la real forma\n",
    "plt.figure(figsize=(10,5))\n",
    "plt.plot(t, mi, 'k.')\n",
    "plt.xlabel('Días')\n",
    "plt.ylabel('magnitud aparente')\n",
    "plt.gca().invert_yaxis()  #Invierte el eje y (la escala de magnitudes está al reves)\n",
    "\n",
    "plt.axvline(0.85) \n",
    "\n",
    "#Si agregamos este comando podemos graficar una línea horizontal,\n",
    "#Hagamos una línea horizontal en el promedio de brillo de nuestra estrella \n",
    "plt.axhline(m_promedio)  #Si cambias m_promedio por un número cualquiera, esta linea se movera \n"
   ]
  },
  {
   "cell_type": "markdown",
   "metadata": {},
   "source": [
    "## Manos a la obra!\n",
    "\n",
    "Ahora te invitamos a tí, a imitar el trabajo de Henrietta Leavitt y a partir de la curva de luz de una Cefeida (que ya está foldeada, por lo que debes saltar ese paso y graficar diréctamente la magnitud vs tiempo) y estimar su periodo y magnitud promedio para agregarla al gráfico de periodo-luminosidad.\n",
    "\n",
    "Éxito!"
   ]
  },
  {
   "cell_type": "code",
   "execution_count": 22,
   "metadata": {},
   "outputs": [],
   "source": [
    "#Este será el nuevo nombre del archivo que debes cargar\n",
    "\n",
    "nombre_curva = 'datos/I/OGLE-LMC-CEP-0935.dat'"
   ]
  },
  {
   "cell_type": "code",
   "execution_count": 23,
   "metadata": {},
   "outputs": [],
   "source": [
    "#Utiliza la función descrita arriba para cargar el archivo\n",
    "\n",
    "curva = pd.read_csv(nombre_curva)"
   ]
  },
  {
   "cell_type": "code",
   "execution_count": 24,
   "metadata": {},
   "outputs": [],
   "source": [
    "#Separa en dos variables cada columna: dia y magnitud\n",
    "\n",
    "mag = curva.mag\n",
    "dia = curva.dia"
   ]
  },
  {
   "cell_type": "code",
   "execution_count": 26,
   "metadata": {},
   "outputs": [
    {
     "data": {
      "text/plain": [
       "<matplotlib.lines.Line2D at 0x7f74f667e828>"
      ]
     },
     "execution_count": 26,
     "metadata": {},
     "output_type": "execute_result"
    },
    {
     "data": {
      "image/png": "[encoded data removed]",
      "text/plain": [
       "<matplotlib.figure.Figure at 0x7f74f65e1a20>"
      ]
     },
     "metadata": {},
     "output_type": "display_data"
    }
   ],
   "source": [
    "#Grafica aqui tu curva de luz: magnitud vs tiempo\n",
    "\n",
    "#Ahora el grafico muestra la real forma\n",
    "plt.figure(figsize=(10,5))\n",
    "plt.plot(dia, mag, 'k.')\n",
    "plt.xlabel('Días')\n",
    "plt.ylabel('magnitud aparente')\n",
    "plt.gca().invert_yaxis()  #Invierte el eje y (la escala de magnitudes está al reves)\n",
    "\n",
    "plt.axvline(21)  #Usa esta linea como guia para encontrar el periodo"
   ]
  },
  {
   "cell_type": "code",
   "execution_count": 29,
   "metadata": {},
   "outputs": [],
   "source": [
    "#Escribe los valores de periodo y magnitud que estimaste en las siguientes variables\n",
    "\n",
    "periodo = 17\n",
    "magnitud = mag.mean()"
   ]
  },
  {
   "cell_type": "code",
   "execution_count": 30,
   "metadata": {},
   "outputs": [
    {
     "data": {
      "text/plain": [
       "[<matplotlib.lines.Line2D at 0x7f74f5e189e8>]"
      ]
     },
     "execution_count": 30,
     "metadata": {},
     "output_type": "execute_result"
    },
    {
     "data": {
      "image/png": "[encoded data removed]",
      "text/plain": [
       "<matplotlib.figure.Figure at 0x7f74f5c6ae48>"
      ]
     },
     "metadata": {},
     "output_type": "display_data"
    }
   ],
   "source": [
    "#Ejecuta esta celda para ver donde en la curva se encontrará tu estrella (marcada con un asterisco *)\n",
    "rel = pd.read_csv('rel_periodo_magnitud.csv')\n",
    "\n",
    "plt.plot(rel.periodo, rel.magnitud, 'o')\n",
    "\n",
    "plt.xscale('log')\n",
    "plt.gca().invert_yaxis()\n",
    "plt.plot(periodo, magnitud, '*')"
   ]
  }
 ],
 "metadata": {
  "kernelspec": {
   "display_name": "Python 3",
   "language": "python",
   "name": "python3"
  },
  "language_info": {
   "codemirror_mode": {
    "name": "ipython",
    "version": 3
   },
   "file_extension": ".py",
   "mimetype": "text/x-python",
   "name": "python",
   "nbconvert_exporter": "python",
   "pygments_lexer": "ipython3",
   "version": "3.6.4"
  }
 },
 "nbformat": 4,
 "nbformat_minor": 2
}
