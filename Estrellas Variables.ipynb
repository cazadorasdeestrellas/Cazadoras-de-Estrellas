{
 "cells": [
  {
   "cell_type": "markdown",
   "metadata": {},
   "source": [
    "# Taller Cazadoras de Estrellas\n",
    "\n",
    "## Módulo de Programación: Estrellas Variables\n",
    "\n",
    "El objetivo de este taller práctico es aprender a utilizar una de las herramientas más populares en la astronomía, la programación. Debido a las grandes cantidades de datos y a la precisión necesaria al estudiar el Universo, en Astronomía es necesario manejar herramientas computacionales que aceleran y dan exactitud a los cálculos.\n",
    "\n",
    "Para esta actividad, dentro del contexto del estudio de las estrellas variables, utilizaremos como motivación el descubrimiento de la *Relación de Período-Luminosidad*, descubierta al rededor de 1912 por Henrietta Swan Leavitt, cuya aplicación directa es la determinación de distancias, tarea importantísima en Astronomía.\n",
    "\n",
    "Mientras trabajaba en el Observatorio del Harvard College como *'calculadora'*, catalogó más de 1700 estrellas variables periódicas en las Nubes Grande y Chica de Magallanes. Henrietta notó que las estrellas Cefeidas con periodos más largos eran más brillantes que las de periodo más corto, y como todas ellas estaban dentro del mismo sistema, es decir a la misma distancia, estas diferencias en brillo debían ser intrínsecas.\n",
    "\n",
    "<img src=\"files/Henrietta-Leavitt.jpg\">\n",
    "\n",
    "\n",
    "En la siguiente actividad, practicaremos algunos conceptos sobre variabilidad y periodicidad utilizando el lenguaje de programación *Python*. Luego, a través de datos de estrellas reales deduciremos la relación de Período-Luminosidad, tal como lo hizo Henrietta Leavitt en 1900."
   ]
  },
  {
   "cell_type": "markdown",
   "metadata": {},
   "source": [
    "### Variabilidad y Periodicidad\n",
    "\n",
    "Comencemos por repasar los conceptos de variabilidad y periodicidad.\n",
    "\n",
    "#### Variabilidad\n",
    "\n",
    "Como ya vimos anteriormente, la variabilidad se refiere a los cambios en las *curvas de luz* de las fuentes espaciales, es decir, cambios en el brillo de un objeto en el cielo a través del tiempo. Existen múltiples tipos de objetos en el Universo que presentan estas variaciones, entre ellos algunos tipos de estrellas.\n",
    "\n",
    "Entre las **estrellas variables**, existen casos en que estas variaciones se repiten en el tiempo, llamamos a este tipo de estrellas variables **periódicas**.\n",
    "\n",
    "<img src=\"files/lc.jpg\" width=\"800\"> \n",
    "\n",
    "En la imágen de la izquierda se ve la curva de luz de una RR Lyrae, que cada medio día repite un patrón de subida y bajada en su brillo. Por otro lado, a la derecha se ve la curva de luz de una Supernova, que tiene un gran aumento de su luminosidad durante su explosión para luego caer lentamente luego de un par de días. El cambio de brillo en la Supernova, a diferencia de las estrellas periódicas, solo ocurre una vez."
   ]
  },
  {
   "cell_type": "markdown",
   "metadata": {},
   "source": [
    "#### Funciones Periódicas\n",
    "\n",
    "\n",
    "Diremos que una función $f(t)$ es **periódica** cuando existe un número $T$, tal que el valor de la función en el tiempo $t$ sea el mismo que para el tiempo $t+T$, es decir:\n",
    "\n",
    "$ f(t + T) = f(t) $\n",
    "\n",
    "Dicho en otras palabras, una función será periódica cuando el trazado de la función sea un patrón que se repite cada cierto intervalo de tiempo. \n",
    "\n",
    "A este intervalo de tiempo $T$ lo llamamos el **periodo**.\n",
    "\n",
    "Como podemos ver en la siguiente imagen, esta función es periódica porque su trazo se repite cada cuatro valores.\n",
    "\n",
    "Por lo tanto su periodo es 4: $T=4$.\n",
    "\n",
    "Si analizamos la función, podemos comprobar que:\n",
    "\n",
    "$f(2)=f(2+4)=f(6)=f(6+4)=f(10)$.\n",
    "\n",
    "<img src=\"files/periodo.jpg\"> "
   ]
  },
  {
   "cell_type": "markdown",
   "metadata": {},
   "source": [
    "#### Ejemplos de funciones periódicas:\n",
    "\n",
    "Si cargamos la librería *iplot*, podemos ver ejemplos de funciones periódicas y cómo estas cambian su forma al cambiar su amplitud (el valor máximo que alcanza) y periodo. Mueve los círculos dentro de las barras para ajustar la amplitud (A) y periodo (T) y observa los cambios en la figura. Las líneas punteadas muestran dos puntos en el gráfico con el mismo valor, mostrando un ciclo."
   ]
  },
  {
   "cell_type": "code",
   "execution_count": 1,
   "metadata": {},
   "outputs": [
    {
     "data": {
      "application/vnd.jupyter.widget-view+json": {
       "model_id": "50fe6fbf0eed44d682867a4ba77da954",
       "version_major": 2,
       "version_minor": 0
      },
      "text/plain": [
       "interactive(children=(FloatSlider(value=10.0, description='A', max=20.0), FloatSlider(value=4.6, description='…"
      ]
     },
     "metadata": {},
     "output_type": "display_data"
    }
   ],
   "source": [
    "import iplot as ip    #Librería con herramineta interactiva de funciones periodicas\n",
    "ip.icuadrado() "
   ]
  },
  {
   "cell_type": "code",
   "execution_count": 2,
   "metadata": {},
   "outputs": [
    {
     "data": {
      "application/vnd.jupyter.widget-view+json": {
       "model_id": "49752d62795f45b88e28372db76ef78f",
       "version_major": 2,
       "version_minor": 0
      },
      "text/plain": [
       "interactive(children=(FloatSlider(value=10.0, description='A', max=20.0), FloatSlider(value=2.5000000000000004…"
      ]
     },
     "metadata": {},
     "output_type": "display_data"
    }
   ],
   "source": [
    "ip.icoseno()"
   ]
  },
  {
   "cell_type": "markdown",
   "metadata": {},
   "source": [
    "## Cálculo de distancias utilizando estrellas variables\n",
    "\n",
    "En Astronomía una de las tareas más desafiantes es determinar las distancias a los objetos. Esto, ya que las fuentes tienen distintas luminosidades. Luego, si tenemos 2 objetos a la misma distancia uno más brillante que otro, si no sabemos cuál es su luminosidad real, el más pequeño nos parecerá más distante."
   ]
  },
  {
   "cell_type": "markdown",
   "metadata": {},
   "source": [
    "### Relación distancia-magnitud\n",
    "\n",
    "Podemos definir una relación entre la cantidad de brillo que emite una fuente en el cielo, versus la cantidad de ese brillo que nos llega cuando estamos a una cierta distancia: *La Ley del inverso al cuadrado*, llamada así pues la cantidad de luz emitida (Luminosidad) que recibimos (el Flujo) cae como la distancia al cuadrado.\n",
    "\n",
    "$F = \\frac{L_V}{4\\pi d^2}$\n",
    "\n",
    "Las y los astrónomos utilizan **magnitudes** para referirse al brillo recibido, pues es más fácil de comparar en esta escala (escala logarítmica). La transformación de flujo a magnitud aparente es la siguiente: \n",
    "\n",
    "$m_V = -2.5 \\log_{10}(F_V) + C$\n",
    "\n",
    "Tambien podemos definir la cantidad llamada **Magnitud absoluta**, que corresponde a la magnitud de nuestra fuente si estuviese a una distancia de $10$ $pc$:\n",
    "\n",
    "$M_V = -2.5 \\log_{10}(F_{V,10pc}) + C$\n",
    "\n",
    "Si juntamos ambas ecuaciones y utilizamos la ley del inverso al cuadrado podemos obtener una fórmula para calcular distancias a partir de la diferencia entre la magnitud aparente y absoluta:\n",
    "\n",
    "\n",
    "$m_V - M_V = -2.5 \\log_{10}(\\frac{F_V}{F_{V,10pc}}) + C - C$\n",
    "\n",
    "$d [pc] = 10^{\\frac{m_V - M_V + 5}{5}}$"
   ]
  },
  {
   "cell_type": "markdown",
   "metadata": {},
   "source": [
    "### Relación Periodo-Luminosidad\n",
    "\n",
    "Ahora, no siempre sabemos cuál es la magnitud absoluta de una fuente (o su luminosidad). Es por esto que la Relación de Periodo-Luminosidad es tan importante. Esta relación nos dice qué magnitud absoluta tiene una fuente dependiendo de su periodo, una cantidad mucho más fácil de calcular.\n",
    "\n",
    "<img src=\"files/periodo-luminosidad.png\">\n",
    "\n",
    "Por ejemplo, si observamos una Cefeida Tipo I de la galaxia Andrómeda con:\n",
    "\n",
    "periodo $T=8$ días \n",
    "\n",
    "\n",
    "<img src=\"files/periodo-luminosidad2.png\">\n",
    "\n",
    "en esta curva, la relación de Periodo-Luminosidad nos dirá que su magnitud absoluta es $M_i = -5.1$.\n",
    "\n",
    "Ahora si su magnitud aparente es $m_i = 19.35$.\n",
    "\n",
    "Luego, podemos calcular su distancia como:\n",
    "\n",
    "$d [pc] = 10^{\\frac{19.35 - (-5.1) + 5}{5}} = 776247$,\n",
    "\n",
    "que es aproximadamente la distancia a Andrómeda."
   ]
  },
  {
   "cell_type": "markdown",
   "metadata": {},
   "source": [
    "### Actividad 1: Función de distancia\n",
    "\n",
    "Utilizando lo aprendido sobre funciones en el módulo anterior, te invitamos a definir una función *distancia*, que reciba como parámetros: magnitud aparente $m$ y magnitud absoluta $M$ y que mediante la siguiente expresión calcule la distancia.\n",
    "\n",
    "$f(m,M) = 10^{\\frac{m - M + 5}{5}}$\n",
    "\n",
    "Luego evalúa tu función utlizando los parámetros de la Cefeida anterior: $m_i = 19.35$ y $M_i = -5.1$ y corrobora el resultado mostrado anteriormente."
   ]
  },
  {
   "cell_type": "code",
   "execution_count": null,
   "metadata": {},
   "outputs": [],
   "source": [
    "#Define una función que realice este calculo: \n",
    "#que reciba como parámetros la magnitud aparente y la magnitud absoluta\n",
    "#y devuelva la distancia en parsec\n",
    "\n",
    "def ():\n",
    "    return "
   ]
  },
  {
   "cell_type": "code",
   "execution_count": null,
   "metadata": {},
   "outputs": [],
   "source": [
    "#Evalúa tu función con: m=19.35, M=-5.1\n",
    "distancia(19.35,-5.1)"
   ]
  },
  {
   "cell_type": "markdown",
   "metadata": {},
   "source": [
    "### Actividad 2: Agregar datos al gráfico de periodo-luminosidad\n",
    "\n",
    "En la siguiente actividad usaremos datos reales de una estrella Cefeida en la Nube Grande de Magallanes (LMC) para estimar su periodos y magnitud promedio. Luego ubicaremos nuestra estrella en la curva de periodo-luminosidad (como en el gráfico anterior).\n",
    "\n",
    "Las siguientes celdas te enseñarán a cargar los datos de una curva (una RR Lyrae) y a graficarla para estimar su periodo desde su curva de luz."
   ]
  },
  {
   "cell_type": "code",
   "execution_count": 3,
   "metadata": {},
   "outputs": [],
   "source": [
    "#Comenzamos importando los módulos que usaremos para trabajar\n",
    "\n",
    "import numpy as np                     #Modulo para manejo de matrices\n",
    "import matplotlib.pyplot as plt        #Modulo para graficar\n",
    "import pandas as pd                    #Modulo para manejo de tablas\n",
    "\n",
    "                    \n",
    "#Esta linea nos permite graficar directamente en la pagina web\n",
    "%matplotlib inline "
   ]
  },
  {
   "cell_type": "code",
   "execution_count": 4,
   "metadata": {},
   "outputs": [],
   "source": [
    "#Puedes acceder a cada columna de la siguiente forma: obj.nombre_de_columna,\n",
    "#la columna ID contiene el nombre del archivo con la curva de luz deseada \n",
    "\n",
    "nombre_curva = 'datos/I/OGLE-LMC-RRLYR-09258.dat'\n",
    "\n",
    "#Ahora cargamos la tabla de nuestra estrella en la variable curva utilizando la función: pd.read_csv(nombre)\n",
    "\n",
    "curva = pd.read_csv(nombre_curva) "
   ]
  },
  {
   "cell_type": "code",
   "execution_count": 5,
   "metadata": {
    "collapsed": true
   },
   "outputs": [
    {
     "name": "stdout",
     "output_type": "stream",
     "text": [
      "            dia     mag\n",
      "0    2156.89973  13.389\n",
      "1    2161.86670  13.388\n",
      "2    2173.87993  13.103\n",
      "3    2186.81692  13.455\n",
      "4    2192.84923  13.393\n",
      "5    2201.83569  13.470\n",
      "6    2214.81724  13.076\n",
      "7    2221.76014  13.416\n",
      "8    2224.77284  13.078\n",
      "9    2227.67546  13.274\n",
      "10   2229.68893  12.978\n",
      "11   2230.83309  13.030\n",
      "12   2232.85270  13.418\n",
      "13   2234.84745  13.244\n",
      "14   2237.76791  13.367\n",
      "15   2241.69318  13.422\n",
      "16   2243.74700  13.291\n",
      "17   2247.82887  13.433\n",
      "18   2248.83149  13.354\n",
      "19   2250.81888  13.141\n",
      "20   2252.67856  13.354\n",
      "21   2254.66962  13.101\n",
      "22   2257.67630  13.362\n",
      "23   2260.68302  12.954\n",
      "24   2264.68839  13.204\n",
      "25   2266.67450  13.413\n",
      "26   2270.68220  13.033\n",
      "27   2271.82256  13.132\n",
      "28   2272.83051  12.859\n",
      "29   2274.67217  13.239\n",
      "..          ...     ...\n",
      "337  4432.75063  13.104\n",
      "338  4436.79056  13.159\n",
      "339  4439.85567  13.456\n",
      "340  4443.74370  13.486\n",
      "341  4449.70655  13.427\n",
      "342  4451.71628  13.118\n",
      "343  4455.71540  13.358\n",
      "344  4457.74584  12.966\n",
      "345  4460.81749  13.463\n",
      "346  4463.73578  13.051\n",
      "347  4466.72477  13.253\n",
      "348  4470.67224  13.380\n",
      "349  4477.77347  13.202\n",
      "350  4482.77725  13.241\n",
      "351  4486.75508  13.389\n",
      "352  4492.65022  13.082\n",
      "353  4494.67400  13.465\n",
      "354  4498.70652  13.030\n",
      "355  4501.70383  13.371\n",
      "356  4506.63791  13.310\n",
      "357  4508.66475  13.038\n",
      "358  4510.73072  13.414\n",
      "359  4517.66496  13.259\n",
      "360  4521.64549  13.357\n",
      "361  4524.60820  13.190\n",
      "362  4530.63419  13.437\n",
      "363  4532.65993  13.304\n",
      "364  4536.63219  13.366\n",
      "365  4539.51416  13.421\n",
      "366  4541.62332  13.378\n",
      "\n",
      "[367 rows x 2 columns]\n"
     ]
    }
   ],
   "source": [
    "#En este caso la tabla tiene 3 columnas, dia, magnitud y error\n",
    "\n",
    "print(curva)"
   ]
  },
  {
   "cell_type": "code",
   "execution_count": 6,
   "metadata": {},
   "outputs": [],
   "source": [
    "#Seleccionamos las columnas de interés, la primera con el tiempo\n",
    "# y la segunda con las magnitudes aparentes correspondientes a el tiempo\n",
    "\n",
    "mi = curva.mag     #Lista con magnitudes\n",
    "t = curva.dia      #Lista con tiempo en dias"
   ]
  },
  {
   "cell_type": "code",
   "execution_count": 7,
   "metadata": {
    "collapsed": true
   },
   "outputs": [
    {
     "name": "stdout",
     "output_type": "stream",
     "text": [
      "0      2156.89973\n",
      "1      2161.86670\n",
      "2      2173.87993\n",
      "3      2186.81692\n",
      "4      2192.84923\n",
      "5      2201.83569\n",
      "6      2214.81724\n",
      "7      2221.76014\n",
      "8      2224.77284\n",
      "9      2227.67546\n",
      "10     2229.68893\n",
      "11     2230.83309\n",
      "12     2232.85270\n",
      "13     2234.84745\n",
      "14     2237.76791\n",
      "15     2241.69318\n",
      "16     2243.74700\n",
      "17     2247.82887\n",
      "18     2248.83149\n",
      "19     2250.81888\n",
      "20     2252.67856\n",
      "21     2254.66962\n",
      "22     2257.67630\n",
      "23     2260.68302\n",
      "24     2264.68839\n",
      "25     2266.67450\n",
      "26     2270.68220\n",
      "27     2271.82256\n",
      "28     2272.83051\n",
      "29     2274.67217\n",
      "          ...    \n",
      "337    4432.75063\n",
      "338    4436.79056\n",
      "339    4439.85567\n",
      "340    4443.74370\n",
      "341    4449.70655\n",
      "342    4451.71628\n",
      "343    4455.71540\n",
      "344    4457.74584\n",
      "345    4460.81749\n",
      "346    4463.73578\n",
      "347    4466.72477\n",
      "348    4470.67224\n",
      "349    4477.77347\n",
      "350    4482.77725\n",
      "351    4486.75508\n",
      "352    4492.65022\n",
      "353    4494.67400\n",
      "354    4498.70652\n",
      "355    4501.70383\n",
      "356    4506.63791\n",
      "357    4508.66475\n",
      "358    4510.73072\n",
      "359    4517.66496\n",
      "360    4521.64549\n",
      "361    4524.60820\n",
      "362    4530.63419\n",
      "363    4532.65993\n",
      "364    4536.63219\n",
      "365    4539.51416\n",
      "366    4541.62332\n",
      "Name: dia, Length: 367, dtype: float64\n"
     ]
    }
   ],
   "source": [
    "print(t)"
   ]
  },
  {
   "cell_type": "code",
   "execution_count": 8,
   "metadata": {
    "collapsed": true
   },
   "outputs": [
    {
     "name": "stdout",
     "output_type": "stream",
     "text": [
      "0      13.389\n",
      "1      13.388\n",
      "2      13.103\n",
      "3      13.455\n",
      "4      13.393\n",
      "5      13.470\n",
      "6      13.076\n",
      "7      13.416\n",
      "8      13.078\n",
      "9      13.274\n",
      "10     12.978\n",
      "11     13.030\n",
      "12     13.418\n",
      "13     13.244\n",
      "14     13.367\n",
      "15     13.422\n",
      "16     13.291\n",
      "17     13.433\n",
      "18     13.354\n",
      "19     13.141\n",
      "20     13.354\n",
      "21     13.101\n",
      "22     13.362\n",
      "23     12.954\n",
      "24     13.204\n",
      "25     13.413\n",
      "26     13.033\n",
      "27     13.132\n",
      "28     12.859\n",
      "29     13.239\n",
      "        ...  \n",
      "337    13.104\n",
      "338    13.159\n",
      "339    13.456\n",
      "340    13.486\n",
      "341    13.427\n",
      "342    13.118\n",
      "343    13.358\n",
      "344    12.966\n",
      "345    13.463\n",
      "346    13.051\n",
      "347    13.253\n",
      "348    13.380\n",
      "349    13.202\n",
      "350    13.241\n",
      "351    13.389\n",
      "352    13.082\n",
      "353    13.465\n",
      "354    13.030\n",
      "355    13.371\n",
      "356    13.310\n",
      "357    13.038\n",
      "358    13.414\n",
      "359    13.259\n",
      "360    13.357\n",
      "361    13.190\n",
      "362    13.437\n",
      "363    13.304\n",
      "364    13.366\n",
      "365    13.421\n",
      "366    13.378\n",
      "Name: mag, Length: 367, dtype: float64\n"
     ]
    }
   ],
   "source": [
    "print(mi)"
   ]
  },
  {
   "cell_type": "code",
   "execution_count": 9,
   "metadata": {},
   "outputs": [
    {
     "data": {
      "image/png": "[encoded data removed]",
      "text/plain": [
       "<matplotlib.figure.Figure at 0x7f74f8bb2198>"
      ]
     },
     "metadata": {},
     "output_type": "display_data"
    }
   ],
   "source": [
    "#Y luego las graficamos\n",
    "\n",
    "plt.figure(figsize=(10,5))\n",
    "\n",
    "plt.plot(t, mi, 'k.')\n",
    "plt.xlabel('Días')\n",
    "plt.ylabel('magnitud aparente')\n",
    "plt.gca().invert_yaxis()  #Invierte el eje y (la escala de magnitudes está al reves) "
   ]
  },
  {
   "cell_type": "code",
   "execution_count": 10,
   "metadata": {},
   "outputs": [
    {
     "data": {
      "image/png": "[encoded data removed]",
      "text/plain": [
       "<matplotlib.figure.Figure at 0x7f74f8b84198>"
      ]
     },
     "metadata": {},
     "output_type": "display_data"
    }
   ],
   "source": [
    "#En este caso la curva no esta 'foldeada', tenemos que foldearla en su periodo para ver su forma real\n",
    "\n",
    "#Tenemos el periodo conocido\n",
    "P = 0.5534047\n",
    "#Y foldeamos\n",
    "t_fold = t % (2*P)\n",
    "\n",
    "#Ahora el grafico muestra la real forma\n",
    "plt.figure(figsize=(10,5))\n",
    "plt.plot(t_fold, mi, 'k.')\n",
    "plt.xlabel('Días')\n",
    "plt.ylabel('magnitud aparente')\n",
    "plt.gca().invert_yaxis()  #Invierte el eje y (la escala de magnitudes está al reves)"
   ]
  },
  {
   "cell_type": "code",
   "execution_count": 16,
   "metadata": {},
   "outputs": [
    {
     "data": {
      "text/plain": [
       "<matplotlib.lines.Line2D at 0x7f74fe1b6748>"
      ]
     },
     "execution_count": 16,
     "metadata": {},
     "output_type": "execute_result"
    },
    {
     "data": {
      "image/png": "[encoded data removed]",
      "text/plain": [
       "<matplotlib.figure.Figure at 0x7f74fde73588>"
      ]
     },
     "metadata": {},
     "output_type": "display_data"
    }
   ],
   "source": [
    "#Ahora el grafico muestra la real forma\n",
    "plt.figure(figsize=(10,5))\n",
    "plt.plot(t_fold, mi, 'k.')\n",
    "plt.xlabel('Días')\n",
    "plt.ylabel('magnitud aparente')\n",
    "plt.gca().invert_yaxis()  #Invierte el eje y (la escala de magnitudes está al reves)\n",
    "\n",
    "\n",
    "#Si agregamos este comando podemos graficar una línea vertical,\n",
    "#Hagamos una línea vertical en el periodo de nuestra estrella \n",
    "plt.axvline(0.5)  #Si cambias P por un número cualquiera, esta linea se movera "
   ]
  },
  {
   "cell_type": "code",
   "execution_count": 17,
   "metadata": {},
   "outputs": [
    {
     "name": "stdout",
     "output_type": "stream",
     "text": [
      "13.256681198910094\n"
     ]
    }
   ],
   "source": [
    "#Además podemos calcular la magnitud promedio de la estrella con el comando mean\n",
    "\n",
    "m_promedio = mi.mean()\n",
    "\n",
    "print(m_promedio)"
   ]
  },
  {
   "cell_type": "code",
   "execution_count": 21,
   "metadata": {},
   "outputs": [
    {
     "data": {
      "text/plain": [
       "<matplotlib.lines.Line2D at 0x7f74f65d9e10>"
      ]
     },
     "execution_count": 21,
     "metadata": {},
     "output_type": "execute_result"
    },
    {
     "data": {
      "image/png": "[encoded data removed]",
      "text/plain": [
       "<matplotlib.figure.Figure at 0x7f74f65e1c50>"
      ]
     },
     "metadata": {},
     "output_type": "display_data"
    }
   ],
   "source": [
    "#Ahora el grafico muestra la real forma\n",
    "plt.figure(figsize=(10,5))\n",
    "plt.plot(t_fold, mi, 'k.')\n",
    "plt.xlabel('Días')\n",
    "plt.ylabel('magnitud aparente')\n",
    "plt.gca().invert_yaxis()  #Invierte el eje y (la escala de magnitudes está al reves)\n",
    "\n",
    "plt.axvline(P) \n",
    "\n",
    "#Si agregamos este comando podemos graficar una línea horizontal,\n",
    "#Hagamos una línea horizontal en el promedio de brillo de nuestra estrella \n",
    "plt.axhline(m_promedio)  #Si cambias m_promedio por un número cualquiera, esta linea se movera \n"
   ]
  },
  {
   "cell_type": "markdown",
   "metadata": {},
   "source": [
    "## Manos a la obra!\n",
    "\n",
    "Ahora te invitamos a tí, a imitar el trabajo de Henrietta Leavitt y a partir de la curva de luz de una Cefeida (que ya está foldeada, por lo que debes saltar ese paso y graficar diréctamente la magnitud vs tiempo) y estimar su periodo y magnitud promedio para agregarla al gráfico de periodo-luminosidad.\n",
    "\n",
    "Éxito!"
   ]
  },
  {
   "cell_type": "code",
   "execution_count": 22,
   "metadata": {},
   "outputs": [],
   "source": [
    "#Este será el nuevo nombre del archivo que debes cargar\n",
    "\n",
    "nombre_curva = 'datos/I/OGLE-LMC-CEP-0935.dat'"
   ]
  },
  {
   "cell_type": "code",
   "execution_count": 23,
   "metadata": {},
   "outputs": [],
   "source": [
    "#Utiliza la función descrita arriba para cargar el archivo\n",
    "\n",
    "curva = pd.read_csv(nombre_curva)"
   ]
  },
  {
   "cell_type": "code",
   "execution_count": 24,
   "metadata": {},
   "outputs": [],
   "source": [
    "#Separa en dos variables cada columna: dia y magnitud\n",
    "\n",
    "mag = curva.mag\n",
    "dia = curva.dia"
   ]
  },
  {
   "cell_type": "code",
   "execution_count": 26,
   "metadata": {},
   "outputs": [
    {
     "data": {
      "text/plain": [
       "<matplotlib.lines.Line2D at 0x7f74f667e828>"
      ]
     },
     "execution_count": 26,
     "metadata": {},
     "output_type": "execute_result"
    },
    {
     "data": {
      "image/png": "[encoded data removed]",
      "text/plain": [
       "<matplotlib.figure.Figure at 0x7f74f65e1a20>"
      ]
     },
     "metadata": {},
     "output_type": "display_data"
    }
   ],
   "source": [
    "#Grafica aqui tu curva de luz: magnitud vs tiempo\n",
    "\n",
    "#Ahora el grafico muestra la real forma\n",
    "plt.figure(figsize=(10,5))\n",
    "plt.plot(dia, mag, 'k.')\n",
    "plt.xlabel('Días')\n",
    "plt.ylabel('magnitud aparente')\n",
    "plt.gca().invert_yaxis()  #Invierte el eje y (la escala de magnitudes está al reves)\n",
    "\n",
    "plt.axvline(21)  #Usa esta linea como guia para encontrar el periodo"
   ]
  },
  {
   "cell_type": "code",
   "execution_count": 29,
   "metadata": {},
   "outputs": [],
   "source": [
    "#Escribe los valores de periodo y magnitud que estimaste en las siguientes variables\n",
    "\n",
    "periodo = 17\n",
    "magnitud = mag.mean()"
   ]
  },
  {
   "cell_type": "code",
   "execution_count": 30,
   "metadata": {},
   "outputs": [
    {
     "data": {
      "text/plain": [
       "[<matplotlib.lines.Line2D at 0x7f74f5e189e8>]"
      ]
     },
     "execution_count": 30,
     "metadata": {},
     "output_type": "execute_result"
    },
    {
     "data": {
      "image/png": "[encoded data removed]",
      "text/plain": [
       "<matplotlib.figure.Figure at 0x7f74f5c6ae48>"
      ]
     },
     "metadata": {},
     "output_type": "display_data"
    }
   ],
   "source": [
    "#Ejecuta esta celda para ver donde en la curva se encontrará tu estrella (marcada con un asterisco *)\n",
    "rel = pd.read_csv('rel_periodo_magnitud.csv')\n",
    "\n",
    "plt.plot(rel.periodo, rel.magnitud, 'o')\n",
    "\n",
    "plt.xscale('log')\n",
    "plt.gca().invert_yaxis()\n",
    "plt.plot(periodo, magnitud, '*')"
   ]
  }
 ],
 "metadata": {
  "kernelspec": {
   "display_name": "Python 3",
   "language": "python",
   "name": "python3"
  },
  "language_info": {
   "codemirror_mode": {
    "name": "ipython",
    "version": 3
   },
   "file_extension": ".py",
   "mimetype": "text/x-python",
   "name": "python",
   "nbconvert_exporter": "python",
   "pygments_lexer": "ipython3",
   "version": "3.6.4"
  }
 },
 "nbformat": 4,
 "nbformat_minor": 2
}
