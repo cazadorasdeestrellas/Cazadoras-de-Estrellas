{
 "cells": [
  {
   "cell_type": "markdown",
   "metadata": {},
   "source": [
    "# Taller Cazadoras de Estrellas\n",
    "\n",
    "## Módulo de Programación: Introducción a Python (Variables y Funciones)\n"
   ]
  },
  {
   "cell_type": "markdown",
   "metadata": {},
   "source": [
    "El objetivo de éste módulo es enseñarte de forma didáctica, a través de ejemplos sencillos, qué es la programación y a cómo programar algoritmos básicos. \n",
    "\n",
    "En este caso elegimos uno de los lenguajes de programación más usados por la comunidad científica *Python*, que como sus creadores catalogan, *es poderoso... y rápido. Amistoso, fácil de aprender y de libre acceso*. "
   ]
  },
  {
   "cell_type": "markdown",
   "metadata": {},
   "source": [
    "#### Imprimir en pantalla \n",
    "\n",
    "Comencemos con el programa más básico realizable en cualquier lenguaje, el famoso *'Hola Mundo'*, que consiste en imprimir en pantalla una frase simple:"
   ]
  },
  {
   "cell_type": "code",
   "execution_count": null,
   "metadata": {},
   "outputs": [],
   "source": [
    "#Imprimir en pantalla: escribamos Hola mundo!\n",
    "\n"
   ]
  },
  {
   "cell_type": "markdown",
   "metadata": {},
   "source": [
    "Felicidades!!!! Acabas de ejecutar tu primer programa. Los programas utilizan la impresión en pantalla para interactuar con el usuario, mostrando información importante, haciendo preguntas o presentando los resultados de sus operaciones. De ahora en adelante utilizaremos la operación __*print()*__ (del inglés imprimir) para mostrar las tareas realizadas."
   ]
  },
  {
   "cell_type": "markdown",
   "metadata": {},
   "source": [
    "#### Variables y tipos de variables\n",
    "\n",
    "Como ya aprendimos, las variables son los nombres con que los programas identifican ciertos valores que guardan. Podemos pensar en las variables como casilleros con nombres en los que guardamos nuestras cosas. Para asignar un valor a una variables utilizamos el signo \"igual\" (=) de la siguiente forma:\n",
    "\n",
    "variable = valor\n",
    "\n",
    "El nombre que damos a la __variable__ siempre va a la izquierda y el __valor__ que le damos a la derecha."
   ]
  },
  {
   "cell_type": "code",
   "execution_count": null,
   "metadata": {},
   "outputs": [],
   "source": [
    "# Creemos una variable de nombre 'ejemplo' y asignemosle el número '1'\n",
    "\n"
   ]
  },
  {
   "cell_type": "markdown",
   "metadata": {},
   "source": [
    "El codigo en la celda anterior crea un variable llamada *ejemplo* a la que asigna el valor *1*. Si le pedimos al computador que nos muestre la variable *ejemplo*, lo que veremos será el contenido de esta, que en este caso es el número 1."
   ]
  },
  {
   "cell_type": "code",
   "execution_count": null,
   "metadata": {},
   "outputs": [],
   "source": [
    "print(ejemplo)"
   ]
  },
  {
   "cell_type": "markdown",
   "metadata": {},
   "source": [
    "El contenido de nuestra variable puede cambiar, dentro de la variable *ejemplo* que ya creamos, podríamos guardar luego un valor diferente. El nombre de nuestra variable será el mismo pero lo que hay dentro de ella cambiará."
   ]
  },
  {
   "cell_type": "code",
   "execution_count": null,
   "metadata": {},
   "outputs": [],
   "source": [
    "ejemplo = 5\n",
    "print(ejemplo)"
   ]
  },
  {
   "cell_type": "markdown",
   "metadata": {},
   "source": [
    "Existen diferentes tipos de variables, las cosas que guardamos en nuestros \"casilleros\" pueden ser de naturalezas diferentes. Cada tipo de variable tiene características propias y entre ellas se relacionan según estas características.\n",
    "\n",
    "En Python, podemos acceder al tipo de variable utilizando el comando __*type()*__ (del ingles tipo)."
   ]
  },
  {
   "cell_type": "code",
   "execution_count": null,
   "metadata": {},
   "outputs": [],
   "source": [
    "#Variables\n",
    "\n",
    "x1 = 20             #Números Enteros (int)\n",
    "x2 = 2.5            #Números Decimales (float) \n",
    "x3 = 'blabla'       #Texto (string)\n",
    "x4 = True           #Booleano (bool)\n",
    "\n",
    "\n",
    "print(x1, x2, x3, x4)\n",
    "print(type(x1), type(x2), type(x3), type(x4))"
   ]
  },
  {
   "cell_type": "markdown",
   "metadata": {},
   "source": [
    "#### Operaciones\n",
    "\n",
    "Podemos realizar operaciones a nuestros valores y guardar los resultados de una serie de ellas en variables. Como por ejemplo ejecutar operaciones matemáticas a través de los símbolos que las representan: __+__, __-__, __*__, __/__, etc..."
   ]
  },
  {
   "cell_type": "code",
   "execution_count": null,
   "metadata": {},
   "outputs": [],
   "source": [
    "#Operaciones\n",
    "\n",
    "#Definimos dos variables numéricas y luego las operamos\n",
    "\n",
    "x = 10\n",
    "y = 5\n",
    "\n",
    "print('Suma:')\n",
    "print(x + y)\n",
    "print('Resta:')\n",
    "print(x - y)\n",
    "print('Multiplicación:')\n",
    "print(x * y)\n",
    "print('División:')\n",
    "print(x / y)\n",
    "print('Potencias:')\n",
    "print(x**y)"
   ]
  },
  {
   "cell_type": "code",
   "execution_count": null,
   "metadata": {},
   "outputs": [],
   "source": [
    "#Ahora guardaremos el resultado en una variable nueva\n",
    "z = 10 * x - 2 ** y\n",
    "\n",
    "print(x, y, z)"
   ]
  },
  {
   "cell_type": "markdown",
   "metadata": {},
   "source": [
    "Nota como al operar las variables estas conservan sus valores, y sólo la nueva variable creada contiene el resultado nuevo."
   ]
  },
  {
   "cell_type": "code",
   "execution_count": null,
   "metadata": {},
   "outputs": [],
   "source": [
    "#Parentesis y resultados distintos\n",
    "\n",
    "x = 1 + 2 * 3\n",
    "\n",
    "print(x)"
   ]
  },
  {
   "cell_type": "markdown",
   "metadata": {},
   "source": [
    "El orden de la evaluación de las operaciones matemáticas sigue el siguiente orden:\n",
    "\n",
    "__P__arentesis __E__xponenciación __M__ultiplicación/__D__ivisión __A__dición/__S__ustracción (__PEMDAS__)\n",
    "\n",
    "Es importante, tambien, cuando se quiere multiplicar, dividir o elevar una expresión numérica de más de un número, poner todo dentro de un paréntesis."
   ]
  },
  {
   "cell_type": "code",
   "execution_count": null,
   "metadata": {},
   "outputs": [],
   "source": [
    "x = 8 / 2 + 2\n",
    "\n",
    "print(x)"
   ]
  },
  {
   "cell_type": "markdown",
   "metadata": {},
   "source": [
    "Ahora ¿Qué pasaría si operamos _strings_?"
   ]
  },
  {
   "cell_type": "code",
   "execution_count": null,
   "metadata": {},
   "outputs": [],
   "source": [
    "#Operemos strings\n",
    "\n",
    "s1 = 'pan'\n",
    "s2 = 'que'\n",
    "\n",
    "print(s1 + s2 + s2)\n",
    "print(s1 + 2 * s2)"
   ]
  },
  {
   "cell_type": "markdown",
   "metadata": {},
   "source": [
    "Los mismos símbolos de operación matemática se pueden utilizar con otros tipos de variables, por ejemplo sumar *strings* entre ellos resulta en su *concatenación*, que significa unir el final de un string con el inicio del siguiente."
   ]
  },
  {
   "cell_type": "code",
   "execution_count": null,
   "metadata": {},
   "outputs": [],
   "source": [
    "#Sigamos operando strings, descomenta (quitando el '#') las siguientes expresiones y prueba sus resultados\n",
    "\n",
    "#print(s1 - s2)\n",
    "#print(s1 / s2)\n",
    "#print(s1 + z)\n",
    "#print(s1 + str(z))"
   ]
  },
  {
   "cell_type": "markdown",
   "metadata": {},
   "source": [
    "No todas las operaciones son válidas para todos los tipos de variables. Los últimos dos ejemplos muestran que sólo se pueden concatenar strings con strings y que por lo tanto para pegar una palabra a una variable numérica es necesario convertirlas. Podemos transformar un número en un string utilizando el comando __*str()*__. "
   ]
  },
  {
   "cell_type": "markdown",
   "metadata": {},
   "source": [
    "#### Funciones\n",
    "\n",
    "Podemos englovar rutinas de código que utilizaremos más de una vez dentro de funciones y así evitar escribirlas una y otra vez. Estas funciones toman argumentos (o parámetros), los cuales procesan, devolviendo uno o más resultados.\n",
    "\n",
    "<img src=\"files/imagenes/funcion.png\">\n",
    "\n",
    "En Python las funciones se definen de la siguiente forma:"
   ]
  },
  {
   "cell_type": "code",
   "execution_count": null,
   "metadata": {},
   "outputs": [],
   "source": [
    "def nombre_funcion(arg1, arg2, ...):\n",
    "    instruccion1\n",
    "    instruccion2\n",
    "    \n",
    "    \n",
    "    return resultado(s)"
   ]
  },
  {
   "cell_type": "markdown",
   "metadata": {},
   "source": [
    "Necesitamos diferentes elementos para crear una función: \n",
    "1. __Nombre de la función (nombre_funcion):__ \n",
    "    Este será el nombre que recibirá nuestra función que debemos escribir cuando queramos utilizarla\n",
    "  \n",
    "2. __Argumentos de entrada (arg1, arg2, ...):__\n",
    "    Son los elementos que le entregaremos a la función cuando queramos ejecutarla, en nuestra función estos argumentos serán variables que existen solo dentro de ella, al momento de crear la función __no tienen ningún valor asignado__, solo tomarán valores al momento de ejecutar la función.\n",
    "    \n",
    "3. __Instrucciones:__\n",
    "    Todas las instrucciones y pasos a seguir que se encuentren dentro de nuestra función. Estas deben ir *identadas*, después de cuatro espacios (como la sangría al escribir parrafos nuevos).\n",
    "        \n",
    "4. __Resultados (return resultado):__\n",
    "    Al finalizar todas las instrucciones nuestra función nos puede devolver __uno o más__ resultados, utilizando la expresión *return* (del inglés devolver). Cuando ejecutemos nuestra función obtendremos como resultado el valor de la variable que asignemos como resultado."
   ]
  },
  {
   "cell_type": "code",
   "execution_count": null,
   "metadata": {},
   "outputs": [],
   "source": [
    "#Definamos una funcion sencilla que solo devuelve lo que se le pasa\n",
    "\n",
    "def f(x):\n",
    "    return x"
   ]
  },
  {
   "cell_type": "markdown",
   "metadata": {},
   "source": [
    "Para utilizar nuestra función debemos *evaluarla*, que significa que le daremos valores a las variables que recibe como argumentos de entrada. Por ejemplo en el caso de nuestra función *f*, tenemos que pasarle valores donde están los argumentos de entrada, en este caso *x*. Si queremos que reciba el valor '10', usamos la función como:\n",
    "\n",
    "f(10)"
   ]
  },
  {
   "cell_type": "code",
   "execution_count": null,
   "metadata": {},
   "outputs": [],
   "source": [
    "#Evaluemos\n",
    "\n",
    "print(f(10))\n",
    "print(f(20))"
   ]
  },
  {
   "cell_type": "markdown",
   "metadata": {},
   "source": [
    "Ahora que ya sabemos cómo se definen funciones, hagamos una función que nos sirva para hacer una tarea pequeña, como sumar uno al valor de entrada. En este caso nuestra función recibirá __solo un argumento__."
   ]
  },
  {
   "cell_type": "code",
   "execution_count": null,
   "metadata": {},
   "outputs": [],
   "source": [
    "# Funcion sencilla\n",
    "\n",
    "def suma_uno(numero):\n",
    "    return numero + 1"
   ]
  },
  {
   "cell_type": "code",
   "execution_count": null,
   "metadata": {},
   "outputs": [],
   "source": [
    "#Evaluemos\n",
    "\n",
    "print(suma_uno(1))"
   ]
  },
  {
   "cell_type": "markdown",
   "metadata": {},
   "source": [
    "Hagamos ahora una función un poco más compleja, haremos la función *resta* que tomará dos números, a y b, y nos devolverá la resta del primero con el segundo. "
   ]
  },
  {
   "cell_type": "code",
   "execution_count": null,
   "metadata": {},
   "outputs": [],
   "source": [
    "#Funcion intermedia\n",
    "\n",
    "def resta(a,b):\n",
    "    return a - b"
   ]
  },
  {
   "cell_type": "code",
   "execution_count": null,
   "metadata": {},
   "outputs": [],
   "source": [
    "#Evaluemos\n",
    "\n",
    "print(resta(3,2))"
   ]
  },
  {
   "cell_type": "markdown",
   "metadata": {},
   "source": [
    "## Actividad práctica (10 mins)"
   ]
  },
  {
   "cell_type": "markdown",
   "metadata": {},
   "source": [
    "Ahora te toca a tí!\n",
    "\n",
    "Intenta crear la siguiente función matemática: \n",
    "\n",
    "Volumen de una esfera de radio r:             $ V = \\frac{4}{3} \\cdot \\pi \\cdot r^3$\n",
    "\n",
    "\n",
    "En este caso la función estará compuesta por:\n",
    "\n",
    "1. __Nombre de la función (nombre_funcion):__ volumen_esfera\n",
    "  \n",
    "2. __Argumentos de entrada (arg1, arg2, ...):__ r (variable que recibirá el radio de la esfera)\n",
    "    \n",
    "3. __Instrucciones:__ Calcular volumen (usando la ecuación de arriba) para el radio r y guardarlo en la variable de nombre 'volumen'\n",
    "        \n",
    "4. __Resultados (return resultado):__ La variable 'volumen'"
   ]
  },
  {
   "cell_type": "code",
   "execution_count": null,
   "metadata": {},
   "outputs": [],
   "source": [
    "import math\n",
    "pi = math.pi\n",
    "\n",
    "print(pi)"
   ]
  },
  {
   "cell_type": "code",
   "execution_count": null,
   "metadata": {},
   "outputs": [],
   "source": [
    "# Escribe aqui tu funcion, de la forma descrita en el párrafo anterior\n",
    "\n",
    "\n"
   ]
  },
  {
   "cell_type": "markdown",
   "metadata": {},
   "source": [
    "Ahora que la función está definida, evaluemos para varios radios: \n",
    "\n",
    "$r = 1$\n",
    "\n",
    "$r = 2$\n",
    "\n",
    "$r = 4$"
   ]
  },
  {
   "cell_type": "code",
   "execution_count": null,
   "metadata": {},
   "outputs": [],
   "source": [
    "# Evalua aquí tu función en los distintos radios pedidos\n",
    "\n",
    "\n"
   ]
  },
  {
   "cell_type": "markdown",
   "metadata": {},
   "source": [
    "### Uso de Librerías y gráficos\n",
    "\n",
    "En python podemos agrupar nuestros códigos en librerías que contienen, entre otras cosas, funciones que podemos llamar. Esto nos permite compartir algoritmos, aprovechando las soluciones a problemas generales que la comunidad resuelve de manera eficiente.\n",
    "\n",
    "Las librerías más usadas en python son aquellas que permiten el manejo fácil de matrices y vectores, __librerías para graficar__ y para resolver problemas matemáticos complejos (integrales, etc). \n",
    "\n",
    "Existen además, librerías para usos en áreas específicas, como __*astropy*__ que tiene funciones útiles para la astronomía, como el manejo de coordenadas en el cielo, transformaciones de unidades, etc."
   ]
  },
  {
   "cell_type": "markdown",
   "metadata": {},
   "source": [
    "### Gráficos usando la librería: matplotlib"
   ]
  },
  {
   "cell_type": "code",
   "execution_count": null,
   "metadata": {},
   "outputs": [],
   "source": [
    "# Ejemplo del uso de librerias para generar gráficos \n",
    "\n",
    "import matplotlib.pyplot as plt\n",
    "%matplotlib inline"
   ]
  },
  {
   "cell_type": "markdown",
   "metadata": {},
   "source": [
    "Al correr la celda anterior estamos cargando todas las funciones que existen en la libreria llamada __matplotlib__. La frase *as plt* significa que le daremos el nombre __plt__ a esta librería dentro del código, y cada vez que queramos utilizar una función de esta librería debemos llamarla usando: \n",
    "\n",
    "*__plt.__nombre_de_funcion()*\n",
    "\n",
    "Hagamos un ejemplo simple donde graficaremos las temperaturas promedio de cada mes, en este año en Talca, sacadas de la siguiente tabla:\n",
    "\n",
    "| Mes| T. Media (C)| T. Máxima (C)| T. Mínima (C)|\n",
    "| --- | --- | --- | --- |\n",
    "| 01| 22 | 33 | 11 |\n",
    "| 02| 22 | 35 | 10 |\n",
    "| 03| 18 | 32 | 07 |\n",
    "| 04| 14 | 26 | 04 |\n",
    "| 05| 11 | 25 | -01 |\n",
    "| 06| 07 | 17 | -02 |\n",
    "| 07| 07 | 18 | -04 |\n",
    "| 08| 09 | 22 | -03 |\n",
    "| 09| 12 | 26 | 02 |\n",
    "\n",
    "Primero crearemos listas con los valores que deseamos graficar. En el __eje x__ (abscisa, el eje horizontal) pondremos los __meses__, identificados por su número (del 1 al 9) y en el __eje y__ (ordenada, el eje vertical) pondremos las temperaturas medias correspondientes."
   ]
  },
  {
   "cell_type": "code",
   "execution_count": null,
   "metadata": {},
   "outputs": [],
   "source": [
    "# Creamos listas para los valores en cada eje\n",
    "\n",
    "mes = (1,2,3,4,5,6,7,8,9)\n",
    "temperatura = (22,22,18,14,11,7,7,9,12)"
   ]
  },
  {
   "cell_type": "markdown",
   "metadata": {},
   "source": [
    "Para poder graficar correctamente ambas listas deben tener el mismo tamaño, de esta forma a cada valor en el eje x le corresponderá uno en el eje y.\n",
    "\n",
    "Ahora crearemos el grafico utilizando la función *plot* (del ingles gráfico), la cual recibe como argumentos las variables que corresponden al eje x y al eje y en ese orden:\n",
    "\n",
    "plt.plot(ejex, ejey)"
   ]
  },
  {
   "cell_type": "code",
   "execution_count": null,
   "metadata": {},
   "outputs": [],
   "source": [
    "# Grafico de ejex --> mes, ejey --> temperatura\n",
    "plt.plot(mes, temperatura)"
   ]
  },
  {
   "cell_type": "markdown",
   "metadata": {},
   "source": [
    "Podemos personalizar nuestros gráficos, cambiar los colores, el tipo de linea, agregar nombres a los ejes, titulo, etc..."
   ]
  },
  {
   "cell_type": "code",
   "execution_count": null,
   "metadata": {},
   "outputs": [],
   "source": [
    "# Utilicemos algunas funciones para personalizar nuestro grafico\n",
    "\n",
    "plt.figure(figsize = (10,5))                     #Esta linea le da tamaño al gráfico\n",
    "plt.plot(mes, temperatura, '.')                  #El tercer argumento cambia el tipo de linea \n",
    "plt.xlabel('Mes')                                #Las funciones xlabel e ylabel dan nombres a los ejes\n",
    "plt.ylabel('Temperatura [C]')\n",
    "plt.title('Temperatura Media en Talca 2018')     #La funcion title pone un titulo arriba del grafico"
   ]
  },
  {
   "cell_type": "markdown",
   "metadata": {},
   "source": [
    "Tambien podemos graficar más de una curva en un gráfico, agreguemos las otras dos columnas de la tabla: Temperatura mínima y Temperatura máxima."
   ]
  },
  {
   "cell_type": "code",
   "execution_count": null,
   "metadata": {},
   "outputs": [],
   "source": [
    "# Agreguemos las nuevas listas\n",
    "\n",
    "t_minima = ()\n",
    "t_maxima = ()"
   ]
  },
  {
   "cell_type": "code",
   "execution_count": null,
   "metadata": {},
   "outputs": [],
   "source": [
    "#Graficar los datos\n",
    "\n",
    "plt.figure(figsize= (10,5))             \n",
    "\n",
    "plt.plot(meses, temperatura, label = 'T Media' )    #la variable 'label' le da nombre a nuestra curva\n",
    "plt.plot(meses, t_maxima, label = 'T Maxima')\n",
    "plt.plot(meses, t_minima, label = 'T Minima')\n",
    "\n",
    "plt.title('Tiempo en Talca 2018')                      \n",
    "plt.ylabel('Temperatura [C]')                         \n",
    "plt.xlabel('Mes')\n",
    "plt.legend()                                          #Esta linea hace aparecer el cuadro con los nombres de cada\n",
    "                                                      #curva\n",
    "\n",
    "\n",
    "#Guardamos nuestra imagen en un archivo .png\n",
    "plt.savefig('temperaturas.png')"
   ]
  }
 ],
 "metadata": {
  "kernelspec": {
   "display_name": "Python 3",
   "language": "python",
   "name": "python3"
  },
  "language_info": {
   "codemirror_mode": {
    "name": "ipython",
    "version": 3
   },
   "file_extension": ".py",
   "mimetype": "text/x-python",
   "name": "python",
   "nbconvert_exporter": "python",
   "pygments_lexer": "ipython3",
   "version": "3.6.4"
  }
 },
 "nbformat": 4,
 "nbformat_minor": 2
}
